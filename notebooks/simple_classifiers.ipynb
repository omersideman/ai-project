{
 "cells": [
  {
   "cell_type": "markdown",
   "metadata": {},
   "source": [
    "# Simple Classifiers and preprocessing of the data"
   ]
  },
  {
   "cell_type": "code",
   "execution_count": 9,
   "metadata": {},
   "outputs": [],
   "source": [
    "import sys\n",
    "sys.path.append('..')\n",
    "\n",
    "import os\n",
    "import matplotlib.pyplot as plt\n",
    "import pandas as pd\n",
    "from src.plot_utils import hist, count, scatter\n",
    "from dotenv import load_dotenv\n",
    "from sklearn.model_selection import train_test_split \n",
    "\n",
    "SEED = 42\n"
   ]
  },
  {
   "cell_type": "markdown",
   "metadata": {},
   "source": [
    "## Importing of the data and spliting"
   ]
  },
  {
   "cell_type": "markdown",
   "metadata": {},
   "source": [
    "next, we will import the dataset:"
   ]
  },
  {
   "cell_type": "code",
   "execution_count": 4,
   "metadata": {},
   "outputs": [
    {
     "name": "stdout",
     "output_type": "stream",
     "text": [
      "<class 'pandas.core.frame.DataFrame'>\n",
      "RangeIndex: 4447 entries, 0 to 4446\n",
      "Data columns (total 25 columns):\n",
      " #   Column                        Non-Null Count  Dtype  \n",
      "---  ------                        --------------  -----  \n",
      " 0   track_name                    4446 non-null   object \n",
      " 1   track_pop                     4447 non-null   int64  \n",
      " 2   artist                        4446 non-null   object \n",
      " 3   artist_pop                    4447 non-null   int64  \n",
      " 4   album                         4446 non-null   object \n",
      " 5   length                        4447 non-null   int64  \n",
      " 6   danceability                  4443 non-null   float64\n",
      " 7   energy                        4443 non-null   float64\n",
      " 8   key                           4443 non-null   float64\n",
      " 9   loudness                      4443 non-null   float64\n",
      " 10  mode                          4443 non-null   float64\n",
      " 11  speechiness                   4443 non-null   float64\n",
      " 12  acousticness                  4443 non-null   float64\n",
      " 13  instrumentalness              4443 non-null   float64\n",
      " 14  liveness                      4443 non-null   float64\n",
      " 15  valence                       4443 non-null   float64\n",
      " 16  tempo                         4443 non-null   float64\n",
      " 17  id                            4443 non-null   object \n",
      " 18  duration_ms                   4443 non-null   float64\n",
      " 19  time_signature                4443 non-null   float64\n",
      " 20  song_name                     4447 non-null   object \n",
      " 21  artist_name                   4447 non-null   object \n",
      " 22  total_likes_count             4447 non-null   int64  \n",
      " 23  number_of_videos              4447 non-null   int64  \n",
      " 24  number_of_videos_last_14days  4447 non-null   int64  \n",
      "dtypes: float64(13), int64(6), object(6)\n",
      "memory usage: 868.7+ KB\n"
     ]
    }
   ],
   "source": [
    "CSV_PATH = '../data/chartex_clean.csv'\n",
    "\n",
    "df = pd.read_csv(CSV_PATH)\n",
    "df.info()"
   ]
  },
  {
   "cell_type": "markdown",
   "metadata": {},
   "source": [
    "next, we will split the target feature (track_pop) from the rest of the features and split to train and test sets:"
   ]
  },
  {
   "cell_type": "code",
   "execution_count": 6,
   "metadata": {},
   "outputs": [],
   "source": [
    "X, y = df.drop(['track_pop', 'length'], axis = 1).values , df['track_pop'].values\n",
    "X_train, X_test, y_train, y_test = train_test_split(X, y, random_state = SEED, test_size=0.25)"
   ]
  }
 ],
 "metadata": {
  "kernelspec": {
   "display_name": "venv",
   "language": "python",
   "name": "python3"
  },
  "language_info": {
   "codemirror_mode": {
    "name": "ipython",
    "version": 3
   },
   "file_extension": ".py",
   "mimetype": "text/x-python",
   "name": "python",
   "nbconvert_exporter": "python",
   "pygments_lexer": "ipython3",
   "version": "3.11.4"
  },
  "orig_nbformat": 4
 },
 "nbformat": 4,
 "nbformat_minor": 2
}
