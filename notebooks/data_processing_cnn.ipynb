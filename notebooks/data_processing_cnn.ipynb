{
 "cells": [
  {
   "cell_type": "markdown",
   "metadata": {},
   "source": [
    "#### Preparing Audio Files for CNN\n"
   ]
  },
  {
   "cell_type": "markdown",
   "metadata": {},
   "source": [
    "For the cnn we want to input a the mel spectrograms of audio files, cropped to the first minute.\n",
    "\n",
    "Spectrograms are a way to visually represent a signal's loudness, or amplitude, as it varies over time at different frequencies. The horizontal axis is time, the vertical axis is frequency, and the color is amplitude. It is calculated using the fast Fourier transform on short time windows of the signal and transforming the vertical axis (frequency) to log scale and the colored axis (amplitude) to decibals.\n",
    "\n",
    "Now, what about the \"mel\" part? Humans are better at detecting differences in lower frequencies than higher frequencies. The mel scale transforms the frequency scale such that sounds at equal distances from each other also sound equal in distance. A mel spectrogram is a spectrogram where the frequencies are converted to the mel scale.\n"
   ]
  },
  {
   "cell_type": "markdown",
   "metadata": {},
   "source": [
    "### Toy Example\n"
   ]
  },
  {
   "cell_type": "code",
   "execution_count": 3,
   "metadata": {},
   "outputs": [],
   "source": [
    "import warnings\n",
    "import IPython.display as ipd\n",
    "import matplotlib.pyplot as plt\n",
    "import librosa.display\n",
    "import numpy as np\n",
    "import pandas as pd\n",
    "import os\n",
    "import librosa\n",
    "from tqdm import tqdm\n",
    "import sys\n",
    "sys.path.append('..')\n",
    "from src.utils.spectrograms import get_spectrograms\n",
    "warnings.filterwarnings('ignore')"
   ]
  },
  {
   "cell_type": "code",
   "execution_count": 6,
   "metadata": {},
   "outputs": [],
   "source": [
    "AUDIO_DIR = \"../data/track_downloads/\"\n",
    "CSV_PATH = \"../data/audio_features.csv\"\n",
    "SPEC_DIR = \"../data/spectrograms/\"\n",
    "SR = 22050\n",
    "\n",
    "example_audio_path = AUDIO_DIR + \"7ya7Jv4hJ9W0Baz7h9nL7E.wav\""
   ]
  },
  {
   "cell_type": "markdown",
   "metadata": {},
   "source": [
    "### Extracting an Audio Signal\n",
    "\n",
    "A signal is a variation in a quantity over time. For audio, the quantity that varies is air pressure. We can represent a signal digitally by taking samples of the air pressure over time. We are left with a waveform for the signal. Librosa is a python library that allows us to extract waveforms from audio files along with several other features. This is the primary package that will be used for this project.\n"
   ]
  },
  {
   "cell_type": "code",
   "execution_count": null,
   "metadata": {},
   "outputs": [],
   "source": [
    "# Extracting the wave, \"y\", and sampling rate, \"sr\", of the audio file (first sixty seconds)\n",
    "y, sr = librosa.load(example_audio_path, sr=sampling_rate,\n",
    "                     mono=True, duration=60)\n",
    "print(f\"sampling rate: {sr}, wave shape: {y.shape}\")"
   ]
  },
  {
   "cell_type": "code",
   "execution_count": null,
   "metadata": {},
   "outputs": [],
   "source": [
    "# Plotting the wave\n",
    "plt.plot(y)\n",
    "plt.title('Signal')\n",
    "plt.xlabel('Time (samples)')\n",
    "plt.ylabel('Amplitude')"
   ]
  },
  {
   "cell_type": "markdown",
   "metadata": {},
   "source": [
    "### Mel Spectrograms\n",
    "\n",
    "Spectrograms are a way to visually represent a signal's loudness, or amplitude, as it varies over time at different frequencies. The horizontal axis is time, the vertical axis is frequency, and the color is amplitude. It is calculated using the fast Fourier transform on short time windows of the signal and transforming the vertical axis (frequency) to log scale and the colored axis (amplitude) to decibals. Now, what about the \"mel\" part? Humans are better at detecting differences in lower frequencies than higher frequencies. The mel scale transforms the frequency scale such that sounds at equal distances from each other also sound equal in distance. A mel spectrogram is a spectrogram where the frequencies are converted to the mel scale.\n",
    "\n",
    "This is what will be the input to the cnn!\n"
   ]
  },
  {
   "cell_type": "code",
   "execution_count": null,
   "metadata": {},
   "outputs": [],
   "source": [
    "# Computing the spectrogram\n",
    "spec = np.abs(librosa.stft(y, hop_length=512))\n",
    "spec = librosa.amplitude_to_db(spec, ref=np.max)  # converting to decibals\n",
    "\n",
    "# Plotting the spectrogram\n",
    "plt.figure(figsize=(8, 5))\n",
    "librosa.display.specshow(spec, sr=sr, x_axis='time', y_axis='log')\n",
    "plt.colorbar(format='%+2.0f dB')\n",
    "plt.title('Spectrogram')"
   ]
  },
  {
   "cell_type": "markdown",
   "metadata": {},
   "source": [
    "### Saving Mel Spectrograms as Images"
   ]
  },
  {
   "cell_type": "code",
   "execution_count": 7,
   "metadata": {},
   "outputs": [
    {
     "name": "stdout",
     "output_type": "stream",
     "text": [
      "Processing row 0 of 3932\n",
      "SHape: (128, 1292)\n"
     ]
    },
    {
     "ename": "OSError",
     "evalue": "cannot write mode F as JPEG",
     "output_type": "error",
     "traceback": [
      "\u001b[0;31m---------------------------------------------------------------------------\u001b[0m",
      "\u001b[0;31mKeyError\u001b[0m                                  Traceback (most recent call last)",
      "File \u001b[0;32m~/dev/technion/ai-project/venv/lib/python3.10/site-packages/PIL/JpegImagePlugin.py:639\u001b[0m, in \u001b[0;36m_save\u001b[0;34m(im, fp, filename)\u001b[0m\n\u001b[1;32m    638\u001b[0m \u001b[39mtry\u001b[39;00m:\n\u001b[0;32m--> 639\u001b[0m     rawmode \u001b[39m=\u001b[39m RAWMODE[im\u001b[39m.\u001b[39;49mmode]\n\u001b[1;32m    640\u001b[0m \u001b[39mexcept\u001b[39;00m \u001b[39mKeyError\u001b[39;00m \u001b[39mas\u001b[39;00m e:\n",
      "\u001b[0;31mKeyError\u001b[0m: 'F'",
      "\nThe above exception was the direct cause of the following exception:\n",
      "\u001b[0;31mOSError\u001b[0m                                   Traceback (most recent call last)",
      "Cell \u001b[0;32mIn[7], line 1\u001b[0m\n\u001b[0;32m----> 1\u001b[0m get_spectrograms(AUDIO_DIR, CSV_PATH, SPEC_DIR, \u001b[39m0\u001b[39;49m, \u001b[39m5\u001b[39;49m)\n",
      "File \u001b[0;32m~/dev/technion/ai-project/notebooks/../src/utils/spectrograms.py:61\u001b[0m, in \u001b[0;36mget_spectrograms\u001b[0;34m(audio_directory, input_csv, output_directory, start_index, end_index)\u001b[0m\n\u001b[1;32m     59\u001b[0m \u001b[39mprint\u001b[39m(\u001b[39mf\u001b[39m\u001b[39m'\u001b[39m\u001b[39mSHape: \u001b[39m\u001b[39m{\u001b[39;00mspect\u001b[39m.\u001b[39mshape\u001b[39m}\u001b[39;00m\u001b[39m'\u001b[39m)\n\u001b[1;32m     60\u001b[0m im \u001b[39m=\u001b[39m Image\u001b[39m.\u001b[39mfromarray(spect)\n\u001b[0;32m---> 61\u001b[0m im\u001b[39m.\u001b[39;49msave(image_path)\n\u001b[1;32m     63\u001b[0m \u001b[39m# adding to the list\u001b[39;00m\n\u001b[1;32m     64\u001b[0m mel_specs\u001b[39m.\u001b[39mappend(spect)\n",
      "File \u001b[0;32m~/dev/technion/ai-project/venv/lib/python3.10/site-packages/PIL/Image.py:2413\u001b[0m, in \u001b[0;36mImage.save\u001b[0;34m(self, fp, format, **params)\u001b[0m\n\u001b[1;32m   2410\u001b[0m         fp \u001b[39m=\u001b[39m builtins\u001b[39m.\u001b[39mopen(filename, \u001b[39m\"\u001b[39m\u001b[39mw+b\u001b[39m\u001b[39m\"\u001b[39m)\n\u001b[1;32m   2412\u001b[0m \u001b[39mtry\u001b[39;00m:\n\u001b[0;32m-> 2413\u001b[0m     save_handler(\u001b[39mself\u001b[39;49m, fp, filename)\n\u001b[1;32m   2414\u001b[0m \u001b[39mexcept\u001b[39;00m \u001b[39mException\u001b[39;00m:\n\u001b[1;32m   2415\u001b[0m     \u001b[39mif\u001b[39;00m open_fp:\n",
      "File \u001b[0;32m~/dev/technion/ai-project/venv/lib/python3.10/site-packages/PIL/JpegImagePlugin.py:642\u001b[0m, in \u001b[0;36m_save\u001b[0;34m(im, fp, filename)\u001b[0m\n\u001b[1;32m    640\u001b[0m \u001b[39mexcept\u001b[39;00m \u001b[39mKeyError\u001b[39;00m \u001b[39mas\u001b[39;00m e:\n\u001b[1;32m    641\u001b[0m     msg \u001b[39m=\u001b[39m \u001b[39mf\u001b[39m\u001b[39m\"\u001b[39m\u001b[39mcannot write mode \u001b[39m\u001b[39m{\u001b[39;00mim\u001b[39m.\u001b[39mmode\u001b[39m}\u001b[39;00m\u001b[39m as JPEG\u001b[39m\u001b[39m\"\u001b[39m\n\u001b[0;32m--> 642\u001b[0m     \u001b[39mraise\u001b[39;00m \u001b[39mOSError\u001b[39;00m(msg) \u001b[39mfrom\u001b[39;00m \u001b[39me\u001b[39;00m\n\u001b[1;32m    644\u001b[0m info \u001b[39m=\u001b[39m im\u001b[39m.\u001b[39mencoderinfo\n\u001b[1;32m    646\u001b[0m dpi \u001b[39m=\u001b[39m [\u001b[39mround\u001b[39m(x) \u001b[39mfor\u001b[39;00m x \u001b[39min\u001b[39;00m info\u001b[39m.\u001b[39mget(\u001b[39m\"\u001b[39m\u001b[39mdpi\u001b[39m\u001b[39m\"\u001b[39m, (\u001b[39m0\u001b[39m, \u001b[39m0\u001b[39m))]\n",
      "\u001b[0;31mOSError\u001b[0m: cannot write mode F as JPEG"
     ]
    }
   ],
   "source": [
    "get_spectrograms(AUDIO_DIR, CSV_PATH, SPEC_DIR, 0, 5)"
   ]
  },
  {
   "cell_type": "code",
   "execution_count": null,
   "metadata": {},
   "outputs": [],
   "source": []
  },
  {
   "cell_type": "code",
   "execution_count": null,
   "metadata": {},
   "outputs": [],
   "source": [
    "spotify_df = pd.read_csv('../data/chartex_final.csv')\n",
    "if os.path.exists('../data/spectrogram_df.csv'):\n",
    "    spectrogram_df = pd.read_csv('../data/spectrogram_df.csv')\n",
    "\n",
    "    # drop duplicate rows\n",
    "    spectrogram_df.drop_duplicates(subset=['id'], inplace=True)\n",
    "\n",
    "batch_size = 5\n",
    "\n",
    "# for i in tqdm(range(0, len(spotify_df), batch_size)):\n",
    "#     spectrogram_df = make_mel_spectrogram_df(audio_directory, '../data/spectrogram_df.csv', i, i+batch_size)\n",
    "    # print(f'Shape of dataframe: {spectrogram_df.shape}')\n",
    "    \n",
    "# Checking the shape of the dataframe\n",
    "\n",
    "# Saving to csv\n",
    "# spectrogram_df.to_csv('../data/spectrogram_df.csv', index=False)"
   ]
  },
  {
   "cell_type": "code",
   "execution_count": null,
   "metadata": {},
   "outputs": [],
   "source": [
    "spectrogram_df = pd.read_csv('../data/spectrogram_df.csv')\n",
    "print(f'Shape of dataframe: {spectrogram_df.shape}')"
   ]
  }
 ],
 "metadata": {
  "kernelspec": {
   "display_name": "venv",
   "language": "python",
   "name": "python3"
  },
  "language_info": {
   "codemirror_mode": {
    "name": "ipython",
    "version": 3
   },
   "file_extension": ".py",
   "mimetype": "text/x-python",
   "name": "python",
   "nbconvert_exporter": "python",
   "pygments_lexer": "ipython3",
   "version": "3.10.10"
  },
  "orig_nbformat": 4
 },
 "nbformat": 4,
 "nbformat_minor": 2
}
