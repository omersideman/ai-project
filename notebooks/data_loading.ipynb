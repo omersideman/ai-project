{
 "cells": [
  {
   "cell_type": "markdown",
   "metadata": {},
   "source": [
    "# Loading Data and Getting Spotify Features"
   ]
  },
  {
   "cell_type": "markdown",
   "metadata": {},
   "source": [
    "### Setup"
   ]
  },
  {
   "cell_type": "code",
   "execution_count": 1,
   "metadata": {},
   "outputs": [],
   "source": [
    "import sys\n",
    "sys.path.append('..')\n",
    "import os\n",
    "import pandas as pd\n",
    "from tqdm.notebook import tqdm\n",
    "from src.utils.spotify import Spotify\n",
    "from src.utils.file_utils import merge_csv, create_dirs_if_not_exist, load_json"
   ]
  },
  {
   "cell_type": "markdown",
   "metadata": {},
   "source": [
    "Initializing Spotify object"
   ]
  },
  {
   "cell_type": "code",
   "execution_count": 15,
   "metadata": {},
   "outputs": [],
   "source": [
    "spot = Spotify()"
   ]
  },
  {
   "cell_type": "markdown",
   "metadata": {},
   "source": [
    "Testing spotify api on a single track"
   ]
  },
  {
   "cell_type": "code",
   "execution_count": 16,
   "metadata": {},
   "outputs": [
    {
     "name": "stdout",
     "output_type": "stream",
     "text": [
      "{'track_name': 'Diddy Bop', 'track_pop': 58, 'artist': 'Noname', 'artist_pop': 55, 'album': 'Telefone', 'length': 208000, 'track_uri': 'spotify:track:7CRPXJt3IVC7V0VcM0PSQi', 'danceability': 0.637, 'energy': 0.503, 'key': 1, 'loudness': -6.927, 'mode': 1, 'speechiness': 0.336, 'acousticness': 0.713, 'instrumentalness': 0.000113, 'liveness': 0.109, 'valence': 0.661, 'tempo': 81.061, 'type': 'audio_features', 'id': '7CRPXJt3IVC7V0VcM0PSQi', 'uri': 'spotify:track:7CRPXJt3IVC7V0VcM0PSQi', 'track_href': 'https://api.spotify.com/v1/tracks/7CRPXJt3IVC7V0VcM0PSQi', 'analysis_url': 'https://api.spotify.com/v1/audio-analysis/7CRPXJt3IVC7V0VcM0PSQi', 'duration_ms': 208000, 'time_signature': 4}\n"
     ]
    }
   ],
   "source": [
    "test_song = 'https://open.spotify.com/track/7CRPXJt3IVC7V0VcM0PSQi?si=79e0c2a7a20d49eb'\n",
    "\n",
    "info = spot.get_track_info(test_song)\n",
    "print(info)"
   ]
  },
  {
   "cell_type": "markdown",
   "metadata": {},
   "source": [
    "Defining data paths"
   ]
  },
  {
   "cell_type": "code",
   "execution_count": 2,
   "metadata": {},
   "outputs": [],
   "source": [
    "# directory of original json pages\n",
    "JSON_PATH = '../data/chartex_json'\n",
    "\n",
    "# directory of csv pages\n",
    "CSV_PATH = '../data/chartex_csv'\n",
    "\n",
    "# filepath of merged raw data\n",
    "MERGED_PATH = '../data/csv_files/chartex_merged.csv'\n",
    "\n",
    "# file path of data with only relevant columns\n",
    "CLEAN_PATH = '../data/csv_files//chartex_clean.csv'\n",
    "\n",
    "# filepath of data with no duplicate songs\n",
    "FINAL_PATH = '../data/csv_files//chartex_final.csv'"
   ]
  },
  {
   "cell_type": "markdown",
   "metadata": {},
   "source": [
    "### Getting metadata from Spotify for all tracks, and saving to csv"
   ]
  },
  {
   "cell_type": "code",
   "execution_count": null,
   "metadata": {},
   "outputs": [],
   "source": [
    "def chartex_to_csv(page_path, out_path):\n",
    "    '''add spotify data to chartex data and save to csv'''\n",
    "\n",
    "    # ensure out path exists\n",
    "    create_dirs_if_not_exist(out_path)\n",
    "\n",
    "    # load page data\n",
    "    page_data = load_json(page_path)\n",
    "    assert(page_data)\n",
    "\n",
    "    # get spotify metadata for each track\n",
    "    tracks = []\n",
    "    for chartex_track_info in tqdm(page_data['results'], desc=f'tracks'):\n",
    "        spoitfy_id = chartex_track_info['spotify_platform_id']\n",
    "        if not spoitfy_id:\n",
    "            continue\n",
    "        track_info = spot.get_track_info(spoitfy_id)\n",
    "        track_info.update(chartex_track_info)\n",
    "        tracks.append(track_info)\n",
    "\n",
    "    # save to csv\n",
    "    raw_df = pd.DataFrame(tracks)\n",
    "    raw_df.to_csv(out_path, index=False)\n",
    "\n",
    "# getting pages\n",
    "json_files = [file for file in os.listdir(JSON_PATH) if file.endswith('.json')]\n",
    "\n",
    "# # getting spotify data for all pages\n",
    "for page, json_file in enumerate(json_files):\n",
    "    json_path = os.path.join(JSON_PATH, json_file)\n",
    "    csv_path = os.path.join(CSV_PATH, f'page{page}.csv')\n",
    "    chartex_to_csv(json_path, csv_path)\n",
    "\n",
    "# Combining all csv files into one\n",
    "merge_csv(CSV_PATH, MERGED_PATH)"
   ]
  },
  {
   "cell_type": "markdown",
   "metadata": {},
   "source": [
    "### Cleaning up the data\n"
   ]
  },
  {
   "cell_type": "code",
   "execution_count": null,
   "metadata": {},
   "outputs": [],
   "source": [
    "# remove unnecessary columns\n",
    "to_drop = [\"type\", \"uri\", \"track_uri\", \"track_href\", \"rank\", \"youtube_platform_id\",\n",
    "           \"tiktok_platform_id\", \"itunes_platform_id\", \"spotify_platform_id\" ,\n",
    "           \"itunes_album_platform_id\", \"song_guid\", \"analysis_url\", \"length\"]\n",
    "merged_df = pd.read_csv(MERGED_PATH)\n",
    "clean_df = merged_df.drop(to_drop, axis=1)\n",
    "\n",
    "# remove rows with no id\n",
    "print(f'Total num rows: {clean_df.shape[0]}')\n",
    "clean_df = clean_df.dropna(subset=['id'])\n",
    "print(f'Num rows after dropping rows with no id: {clean_df.shape[0]}')\n",
    "\n",
    "# remove rows with no audio features\n",
    "clean_df = clean_df.dropna(subset=['valence'])\n",
    "print(f'Num rows after dropping rows with no audio features: {clean_df.shape[0]}')\n",
    "\n",
    "# save to csv\n",
    "clean_df.to_csv(CLEAN_PATH, index=False)"
   ]
  },
  {
   "cell_type": "markdown",
   "metadata": {},
   "source": [
    "Merging duplicate tracks"
   ]
  },
  {
   "cell_type": "code",
   "execution_count": null,
   "metadata": {},
   "outputs": [],
   "source": [
    "# Load the clean CSV file into a DataFrame\n",
    "clean_df = pd.read_csv(CLEAN_PATH)\n",
    "print(f'The dataset has {clean_df.shape[0]} rows and {clean_df.shape[1]} columns.')\n",
    "\n",
    "# Find how many tracks with identical names are in the dataset\n",
    "duplicates = clean_df.duplicated(subset=['track_name'], keep=False)\n",
    "num_duplicates = duplicates.sum()\n",
    "print(f'There are {num_duplicates} duplicate tracks.')\n",
    "\n",
    "# example of duplicate tracks\n",
    "indices = clean_df.loc[clean_df['track_name'] == 'Laxed – Siren Beat'].index\n",
    "example_duplicates = clean_df.loc[indices, ['track_name', 'number_of_videos']]\n",
    "print(f'\\nExample of duplicated tracks:\\n{example_duplicates}\\n')\n",
    "\n",
    "# Group the DataFrame by 'track_name' and sum up the 'number_of_videos'\n",
    "grouped_df = clean_df.groupby('track_name', as_index=False)\n",
    "grouped_df = grouped_df.agg({col: 'first' if col != 'number_of_videos' else 'sum' for col in clean_df.columns})\n",
    "grouped_df = grouped_df.reset_index()\n",
    "print(f'without duplicates the DataFrame has {grouped_df.shape[0]} rows.')\n",
    "\n",
    "# example of merged track\n",
    "index = grouped_df.loc[grouped_df['track_name'] == 'Laxed – Siren Beat'].index\n",
    "example_merged = grouped_df.loc[index, ['track_name', 'number_of_videos']]\n",
    "print(f'\\nExample of merged tracks:\\n{example_merged}\\n')\n",
    "\n",
    "# sort by popularity\n",
    "sorted_df = grouped_df.sort_values(by=\"number_of_videos\", ascending=False)\n",
    "\n",
    "# save to csv\n",
    "sorted_df.to_csv(FINAL_PATH, index=False)"
   ]
  }
 ],
 "metadata": {
  "kernelspec": {
   "display_name": "venv",
   "language": "python",
   "name": "python3"
  },
  "language_info": {
   "codemirror_mode": {
    "name": "ipython",
    "version": 3
   },
   "file_extension": ".py",
   "mimetype": "text/x-python",
   "name": "python",
   "nbconvert_exporter": "python",
   "pygments_lexer": "ipython3",
   "version": "3.10.10"
  },
  "orig_nbformat": 4
 },
 "nbformat": 4,
 "nbformat_minor": 2
}
