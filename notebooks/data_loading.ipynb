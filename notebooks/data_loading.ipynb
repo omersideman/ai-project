{
 "cells": [
  {
   "cell_type": "code",
   "execution_count": 1,
   "metadata": {},
   "outputs": [],
   "source": [
    "import sys; sys.path.append('..')\n",
    "import json\n",
    "import os\n",
    "from dotenv import load_dotenv\n",
    "import pandas as pd\n",
    "from tqdm.notebook import tqdm\n",
    "load_dotenv()\n",
    "\n",
    "# maybe move to config file\n",
    "src_dir = os.getenv('SRC_DIR')\n",
    "assert(src_dir)\n",
    "os.chdir(src_dir)\n",
    "\n",
    "from src.spotify import Spotify\n",
    "import src.utils \n",
    "\n",
    "spot = Spotify()"
   ]
  },
  {
   "cell_type": "code",
   "execution_count": 2,
   "metadata": {},
   "outputs": [
    {
     "ename": "KeyboardInterrupt",
     "evalue": "",
     "output_type": "error",
     "traceback": [
      "\u001b[0;31m---------------------------------------------------------------------------\u001b[0m",
      "\u001b[0;31mKeyboardInterrupt\u001b[0m                         Traceback (most recent call last)",
      "Cell \u001b[0;32mIn[2], line 3\u001b[0m\n\u001b[1;32m      1\u001b[0m sample_song \u001b[39m=\u001b[39m \u001b[39m'\u001b[39m\u001b[39m3BJiF37kmX4HCfYSO7qBnQ\u001b[39m\u001b[39m'\u001b[39m\n\u001b[0;32m----> 3\u001b[0m track_info \u001b[39m=\u001b[39m spot\u001b[39m.\u001b[39;49mget_track_info(sample_song)\n\u001b[1;32m      5\u001b[0m \u001b[39mprint\u001b[39m(track_info)\n",
      "File \u001b[0;32m~/dev/technion/ai-project/notebooks/../src/spotify.py:129\u001b[0m, in \u001b[0;36mSpotify.get_track_info\u001b[0;34m(self, track_uri)\u001b[0m\n\u001b[1;32m    126\u001b[0m \u001b[39mdef\u001b[39;00m \u001b[39mget_track_info\u001b[39m(\u001b[39mself\u001b[39m, track_uri: \u001b[39mstr\u001b[39m):\n\u001b[1;32m    127\u001b[0m \u001b[39m    \u001b[39m\u001b[39m'''returns info about a track'''\u001b[39;00m\n\u001b[0;32m--> 129\u001b[0m     track \u001b[39m=\u001b[39m \u001b[39mself\u001b[39;49m\u001b[39m.\u001b[39;49m_call_spotify_api(sp\u001b[39m.\u001b[39;49mtrack, track_uri)\n\u001b[1;32m    130\u001b[0m     \u001b[39massert\u001b[39;00m (track)\n\u001b[1;32m    132\u001b[0m     artist \u001b[39m=\u001b[39m \u001b[39mself\u001b[39m\u001b[39m.\u001b[39m_call_spotify_api(sp\u001b[39m.\u001b[39martist, track[\u001b[39m'\u001b[39m\u001b[39martists\u001b[39m\u001b[39m'\u001b[39m][\u001b[39m0\u001b[39m][\u001b[39m'\u001b[39m\u001b[39muri\u001b[39m\u001b[39m'\u001b[39m])\n",
      "File \u001b[0;32m~/dev/technion/ai-project/notebooks/../src/spotify.py:32\u001b[0m, in \u001b[0;36mSpotify._call_spotify_api\u001b[0;34m(self, func, *args, **kwargs)\u001b[0m\n\u001b[1;32m     30\u001b[0m \u001b[39mfor\u001b[39;00m i \u001b[39min\u001b[39;00m \u001b[39mrange\u001b[39m(max_attempts):\n\u001b[1;32m     31\u001b[0m     \u001b[39mtry\u001b[39;00m:\n\u001b[0;32m---> 32\u001b[0m         res \u001b[39m=\u001b[39m func(\u001b[39m*\u001b[39;49margs, \u001b[39m*\u001b[39;49m\u001b[39m*\u001b[39;49mkwargs)\n\u001b[1;32m     33\u001b[0m         \u001b[39mif\u001b[39;00m res \u001b[39m==\u001b[39m \u001b[39mNone\u001b[39;00m:\n\u001b[1;32m     34\u001b[0m             \u001b[39mraise\u001b[39;00m \u001b[39mValueError\u001b[39;00m(\u001b[39m'\u001b[39m\u001b[39mNo results found\u001b[39m\u001b[39m'\u001b[39m)\n",
      "File \u001b[0;32m~/dev/technion/ai-project/venv/lib/python3.10/site-packages/spotipy/client.py:371\u001b[0m, in \u001b[0;36mSpotify.track\u001b[0;34m(self, track_id, market)\u001b[0m\n\u001b[1;32m    363\u001b[0m \u001b[39m\u001b[39m\u001b[39m\"\"\" returns a single track given the track's ID, URI or URL\u001b[39;00m\n\u001b[1;32m    364\u001b[0m \n\u001b[1;32m    365\u001b[0m \u001b[39m    Parameters:\u001b[39;00m\n\u001b[1;32m    366\u001b[0m \u001b[39m        - track_id - a spotify URI, URL or ID\u001b[39;00m\n\u001b[1;32m    367\u001b[0m \u001b[39m        - market - an ISO 3166-1 alpha-2 country code.\u001b[39;00m\n\u001b[1;32m    368\u001b[0m \u001b[39m\"\"\"\u001b[39;00m\n\u001b[1;32m    370\u001b[0m trid \u001b[39m=\u001b[39m \u001b[39mself\u001b[39m\u001b[39m.\u001b[39m_get_id(\u001b[39m\"\u001b[39m\u001b[39mtrack\u001b[39m\u001b[39m\"\u001b[39m, track_id)\n\u001b[0;32m--> 371\u001b[0m \u001b[39mreturn\u001b[39;00m \u001b[39mself\u001b[39;49m\u001b[39m.\u001b[39;49m_get(\u001b[39m\"\u001b[39;49m\u001b[39mtracks/\u001b[39;49m\u001b[39m\"\u001b[39;49m \u001b[39m+\u001b[39;49m trid, market\u001b[39m=\u001b[39;49mmarket)\n",
      "File \u001b[0;32m~/dev/technion/ai-project/venv/lib/python3.10/site-packages/spotipy/client.py:323\u001b[0m, in \u001b[0;36mSpotify._get\u001b[0;34m(self, url, args, payload, **kwargs)\u001b[0m\n\u001b[1;32m    320\u001b[0m \u001b[39mif\u001b[39;00m args:\n\u001b[1;32m    321\u001b[0m     kwargs\u001b[39m.\u001b[39mupdate(args)\n\u001b[0;32m--> 323\u001b[0m \u001b[39mreturn\u001b[39;00m \u001b[39mself\u001b[39;49m\u001b[39m.\u001b[39;49m_internal_call(\u001b[39m\"\u001b[39;49m\u001b[39mGET\u001b[39;49m\u001b[39m\"\u001b[39;49m, url, payload, kwargs)\n",
      "File \u001b[0;32m~/dev/technion/ai-project/venv/lib/python3.10/site-packages/spotipy/client.py:266\u001b[0m, in \u001b[0;36mSpotify._internal_call\u001b[0;34m(self, method, url, payload, params)\u001b[0m\n\u001b[1;32m    262\u001b[0m logger\u001b[39m.\u001b[39mdebug(\u001b[39m'\u001b[39m\u001b[39mSending \u001b[39m\u001b[39m%s\u001b[39;00m\u001b[39m to \u001b[39m\u001b[39m%s\u001b[39;00m\u001b[39m with Params: \u001b[39m\u001b[39m%s\u001b[39;00m\u001b[39m Headers: \u001b[39m\u001b[39m%s\u001b[39;00m\u001b[39m and Body: \u001b[39m\u001b[39m%r\u001b[39;00m\u001b[39m \u001b[39m\u001b[39m'\u001b[39m,\n\u001b[1;32m    263\u001b[0m              method, url, args\u001b[39m.\u001b[39mget(\u001b[39m\"\u001b[39m\u001b[39mparams\u001b[39m\u001b[39m\"\u001b[39m), headers, args\u001b[39m.\u001b[39mget(\u001b[39m'\u001b[39m\u001b[39mdata\u001b[39m\u001b[39m'\u001b[39m))\n\u001b[1;32m    265\u001b[0m \u001b[39mtry\u001b[39;00m:\n\u001b[0;32m--> 266\u001b[0m     response \u001b[39m=\u001b[39m \u001b[39mself\u001b[39;49m\u001b[39m.\u001b[39;49m_session\u001b[39m.\u001b[39;49mrequest(\n\u001b[1;32m    267\u001b[0m         method, url, headers\u001b[39m=\u001b[39;49mheaders, proxies\u001b[39m=\u001b[39;49m\u001b[39mself\u001b[39;49m\u001b[39m.\u001b[39;49mproxies,\n\u001b[1;32m    268\u001b[0m         timeout\u001b[39m=\u001b[39;49m\u001b[39mself\u001b[39;49m\u001b[39m.\u001b[39;49mrequests_timeout, \u001b[39m*\u001b[39;49m\u001b[39m*\u001b[39;49margs\n\u001b[1;32m    269\u001b[0m     )\n\u001b[1;32m    271\u001b[0m     response\u001b[39m.\u001b[39mraise_for_status()\n\u001b[1;32m    272\u001b[0m     results \u001b[39m=\u001b[39m response\u001b[39m.\u001b[39mjson()\n",
      "File \u001b[0;32m~/dev/technion/ai-project/venv/lib/python3.10/site-packages/requests/sessions.py:589\u001b[0m, in \u001b[0;36mSession.request\u001b[0;34m(self, method, url, params, data, headers, cookies, files, auth, timeout, allow_redirects, proxies, hooks, stream, verify, cert, json)\u001b[0m\n\u001b[1;32m    584\u001b[0m send_kwargs \u001b[39m=\u001b[39m {\n\u001b[1;32m    585\u001b[0m     \u001b[39m\"\u001b[39m\u001b[39mtimeout\u001b[39m\u001b[39m\"\u001b[39m: timeout,\n\u001b[1;32m    586\u001b[0m     \u001b[39m\"\u001b[39m\u001b[39mallow_redirects\u001b[39m\u001b[39m\"\u001b[39m: allow_redirects,\n\u001b[1;32m    587\u001b[0m }\n\u001b[1;32m    588\u001b[0m send_kwargs\u001b[39m.\u001b[39mupdate(settings)\n\u001b[0;32m--> 589\u001b[0m resp \u001b[39m=\u001b[39m \u001b[39mself\u001b[39;49m\u001b[39m.\u001b[39;49msend(prep, \u001b[39m*\u001b[39;49m\u001b[39m*\u001b[39;49msend_kwargs)\n\u001b[1;32m    591\u001b[0m \u001b[39mreturn\u001b[39;00m resp\n",
      "File \u001b[0;32m~/dev/technion/ai-project/venv/lib/python3.10/site-packages/requests/sessions.py:703\u001b[0m, in \u001b[0;36mSession.send\u001b[0;34m(self, request, **kwargs)\u001b[0m\n\u001b[1;32m    700\u001b[0m start \u001b[39m=\u001b[39m preferred_clock()\n\u001b[1;32m    702\u001b[0m \u001b[39m# Send the request\u001b[39;00m\n\u001b[0;32m--> 703\u001b[0m r \u001b[39m=\u001b[39m adapter\u001b[39m.\u001b[39;49msend(request, \u001b[39m*\u001b[39;49m\u001b[39m*\u001b[39;49mkwargs)\n\u001b[1;32m    705\u001b[0m \u001b[39m# Total elapsed time of the request (approximately)\u001b[39;00m\n\u001b[1;32m    706\u001b[0m elapsed \u001b[39m=\u001b[39m preferred_clock() \u001b[39m-\u001b[39m start\n",
      "File \u001b[0;32m~/dev/technion/ai-project/venv/lib/python3.10/site-packages/requests/adapters.py:486\u001b[0m, in \u001b[0;36mHTTPAdapter.send\u001b[0;34m(self, request, stream, timeout, verify, cert, proxies)\u001b[0m\n\u001b[1;32m    483\u001b[0m     timeout \u001b[39m=\u001b[39m TimeoutSauce(connect\u001b[39m=\u001b[39mtimeout, read\u001b[39m=\u001b[39mtimeout)\n\u001b[1;32m    485\u001b[0m \u001b[39mtry\u001b[39;00m:\n\u001b[0;32m--> 486\u001b[0m     resp \u001b[39m=\u001b[39m conn\u001b[39m.\u001b[39;49murlopen(\n\u001b[1;32m    487\u001b[0m         method\u001b[39m=\u001b[39;49mrequest\u001b[39m.\u001b[39;49mmethod,\n\u001b[1;32m    488\u001b[0m         url\u001b[39m=\u001b[39;49murl,\n\u001b[1;32m    489\u001b[0m         body\u001b[39m=\u001b[39;49mrequest\u001b[39m.\u001b[39;49mbody,\n\u001b[1;32m    490\u001b[0m         headers\u001b[39m=\u001b[39;49mrequest\u001b[39m.\u001b[39;49mheaders,\n\u001b[1;32m    491\u001b[0m         redirect\u001b[39m=\u001b[39;49m\u001b[39mFalse\u001b[39;49;00m,\n\u001b[1;32m    492\u001b[0m         assert_same_host\u001b[39m=\u001b[39;49m\u001b[39mFalse\u001b[39;49;00m,\n\u001b[1;32m    493\u001b[0m         preload_content\u001b[39m=\u001b[39;49m\u001b[39mFalse\u001b[39;49;00m,\n\u001b[1;32m    494\u001b[0m         decode_content\u001b[39m=\u001b[39;49m\u001b[39mFalse\u001b[39;49;00m,\n\u001b[1;32m    495\u001b[0m         retries\u001b[39m=\u001b[39;49m\u001b[39mself\u001b[39;49m\u001b[39m.\u001b[39;49mmax_retries,\n\u001b[1;32m    496\u001b[0m         timeout\u001b[39m=\u001b[39;49mtimeout,\n\u001b[1;32m    497\u001b[0m         chunked\u001b[39m=\u001b[39;49mchunked,\n\u001b[1;32m    498\u001b[0m     )\n\u001b[1;32m    500\u001b[0m \u001b[39mexcept\u001b[39;00m (ProtocolError, \u001b[39mOSError\u001b[39;00m) \u001b[39mas\u001b[39;00m err:\n\u001b[1;32m    501\u001b[0m     \u001b[39mraise\u001b[39;00m \u001b[39mConnectionError\u001b[39;00m(err, request\u001b[39m=\u001b[39mrequest)\n",
      "File \u001b[0;32m~/dev/technion/ai-project/venv/lib/python3.10/site-packages/urllib3/connectionpool.py:939\u001b[0m, in \u001b[0;36mHTTPConnectionPool.urlopen\u001b[0;34m(self, method, url, body, headers, retries, redirect, assert_same_host, timeout, pool_timeout, release_conn, chunked, body_pos, preload_content, decode_content, **response_kw)\u001b[0m\n\u001b[1;32m    936\u001b[0m     \u001b[39mreturn\u001b[39;00m response\n\u001b[1;32m    938\u001b[0m response\u001b[39m.\u001b[39mdrain_conn()\n\u001b[0;32m--> 939\u001b[0m retries\u001b[39m.\u001b[39;49msleep(response)\n\u001b[1;32m    940\u001b[0m log\u001b[39m.\u001b[39mdebug(\u001b[39m\"\u001b[39m\u001b[39mRetry: \u001b[39m\u001b[39m%s\u001b[39;00m\u001b[39m\"\u001b[39m, url)\n\u001b[1;32m    941\u001b[0m \u001b[39mreturn\u001b[39;00m \u001b[39mself\u001b[39m\u001b[39m.\u001b[39murlopen(\n\u001b[1;32m    942\u001b[0m     method,\n\u001b[1;32m    943\u001b[0m     url,\n\u001b[0;32m   (...)\u001b[0m\n\u001b[1;32m    956\u001b[0m     \u001b[39m*\u001b[39m\u001b[39m*\u001b[39mresponse_kw,\n\u001b[1;32m    957\u001b[0m )\n",
      "File \u001b[0;32m~/dev/technion/ai-project/venv/lib/python3.10/site-packages/urllib3/util/retry.py:355\u001b[0m, in \u001b[0;36mRetry.sleep\u001b[0;34m(self, response)\u001b[0m\n\u001b[1;32m    346\u001b[0m \u001b[39m\u001b[39m\u001b[39m\"\"\"Sleep between retry attempts.\u001b[39;00m\n\u001b[1;32m    347\u001b[0m \n\u001b[1;32m    348\u001b[0m \u001b[39mThis method will respect a server's ``Retry-After`` response header\u001b[39;00m\n\u001b[0;32m   (...)\u001b[0m\n\u001b[1;32m    351\u001b[0m \u001b[39mthis method will return immediately.\u001b[39;00m\n\u001b[1;32m    352\u001b[0m \u001b[39m\"\"\"\u001b[39;00m\n\u001b[1;32m    354\u001b[0m \u001b[39mif\u001b[39;00m \u001b[39mself\u001b[39m\u001b[39m.\u001b[39mrespect_retry_after_header \u001b[39mand\u001b[39;00m response:\n\u001b[0;32m--> 355\u001b[0m     slept \u001b[39m=\u001b[39m \u001b[39mself\u001b[39;49m\u001b[39m.\u001b[39;49msleep_for_retry(response)\n\u001b[1;32m    356\u001b[0m     \u001b[39mif\u001b[39;00m slept:\n\u001b[1;32m    357\u001b[0m         \u001b[39mreturn\u001b[39;00m\n",
      "File \u001b[0;32m~/dev/technion/ai-project/venv/lib/python3.10/site-packages/urllib3/util/retry.py:334\u001b[0m, in \u001b[0;36mRetry.sleep_for_retry\u001b[0;34m(self, response)\u001b[0m\n\u001b[1;32m    332\u001b[0m retry_after \u001b[39m=\u001b[39m \u001b[39mself\u001b[39m\u001b[39m.\u001b[39mget_retry_after(response)\n\u001b[1;32m    333\u001b[0m \u001b[39mif\u001b[39;00m retry_after:\n\u001b[0;32m--> 334\u001b[0m     time\u001b[39m.\u001b[39;49msleep(retry_after)\n\u001b[1;32m    335\u001b[0m     \u001b[39mreturn\u001b[39;00m \u001b[39mTrue\u001b[39;00m\n\u001b[1;32m    337\u001b[0m \u001b[39mreturn\u001b[39;00m \u001b[39mFalse\u001b[39;00m\n",
      "\u001b[0;31mKeyboardInterrupt\u001b[0m: "
     ]
    }
   ],
   "source": [
    "sample_song = '3BJiF37kmX4HCfYSO7qBnQ'\n",
    "\n",
    "track_info = spot.get_track_info(sample_song)\n",
    "\n",
    "print(track_info)"
   ]
  },
  {
   "cell_type": "code",
   "execution_count": 3,
   "metadata": {},
   "outputs": [
    {
     "data": {
      "application/vnd.jupyter.widget-view+json": {
       "model_id": "cb555762fe5241dea93f0ebd6b46fb7c",
       "version_major": 2,
       "version_minor": 0
      },
      "text/plain": [
       "pages: 0it [00:00, ?it/s]"
      ]
     },
     "metadata": {},
     "output_type": "display_data"
    }
   ],
   "source": [
    "# directory of original data\n",
    "DATAPATH = '../data/chartex'\n",
    "\n",
    "# directory of processed data\n",
    "OUTPATH = '../data/chartex_processed'\n",
    "\n",
    "\n",
    "def chartex_to_csv(page_path, out_path):\n",
    "    '''add spotify data to chartex data and save to csv'''\n",
    "    page_data = src.utils.load_json(page_path)\n",
    "    assert(page_data)\n",
    "    tracks = []\n",
    "    for chartex_track_info in tqdm(page_data['results'], desc=f'tracks'):\n",
    "        spoitfy_id = chartex_track_info['spotify_platform_id']\n",
    "        if not spoitfy_id:\n",
    "            continue\n",
    "        track_info = spot.get_track_info(spoitfy_id)\n",
    "        track_info.update(chartex_track_info)\n",
    "        tracks.append(track_info)\n",
    "        \n",
    "    df = pd.DataFrame(tracks)\n",
    "    df.to_csv(out_path, index=False)\n",
    "\n",
    "\n",
    "for page in tqdm(range(0), desc='pages'):\n",
    "    page_path = f'{DATAPATH}/page{page}.json'\n",
    "    out_path = f'{OUTPATH}/page{page}.csv'\n",
    "    chartex_to_csv(page_path, out_path)\n"
   ]
  },
  {
   "cell_type": "code",
   "execution_count": 4,
   "metadata": {},
   "outputs": [],
   "source": [
    "#combining all csv files into one\n",
    "merged_path = '../data/chartex_merged.csv'\n",
    "src.utils.merge_csv(OUTPATH, merged_path)"
   ]
  },
  {
   "cell_type": "code",
   "execution_count": 8,
   "metadata": {},
   "outputs": [],
   "source": [
    "# remove unnecessary columns \n",
    "clean_path = \"../data/chartex_clean.csv\"\n",
    "to_drop = [\"type\", \"uri\", \"track_uri\", \"track_href\", \"rank\", \"youtube_platform_id\", \n",
    "           \"tiktok_platform_id\", \"itunes_platform_id\", \"spotify_platform_id\" ,\n",
    "           \"itunes_album_platform_id\", \"song_guid\", \"analysis_url\"]\n",
    "\n",
    "df = pd.read_csv(merged_path)\n",
    "df = df.drop(to_drop, axis=1)\n",
    "df.to_csv(clean_path, index=False)"
   ]
  }
 ],
 "metadata": {
  "kernelspec": {
   "display_name": "venv",
   "language": "python",
   "name": "python3"
  },
  "language_info": {
   "codemirror_mode": {
    "name": "ipython",
    "version": 3
   },
   "file_extension": ".py",
   "mimetype": "text/x-python",
   "name": "python",
   "nbconvert_exporter": "python",
   "pygments_lexer": "ipython3",
   "version": "3.10.10"
  },
  "orig_nbformat": 4
 },
 "nbformat": 4,
 "nbformat_minor": 2
}
