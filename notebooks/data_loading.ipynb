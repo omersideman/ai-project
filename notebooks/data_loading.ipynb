{
 "cells": [
  {
   "cell_type": "code",
   "execution_count": 1,
   "metadata": {},
   "outputs": [],
   "source": [
    "import sys; sys.path.append('..')\n",
    "import os\n",
    "from dotenv import load_dotenv\n",
    "import pandas as pd\n",
    "from tqdm.notebook import tqdm\n",
    "\n",
    "# maybe move to config file\n",
    "load_dotenv()\n",
    "src_dir = os.getenv('SRC_DIR')\n",
    "assert(src_dir)\n",
    "os.chdir(src_dir)\n",
    "\n",
    "from src.spotify import Spotify\n",
    "import src.file_utils \n",
    "\n",
    "spot = Spotify()"
   ]
  },
  {
   "cell_type": "code",
   "execution_count": 2,
   "metadata": {},
   "outputs": [
    {
     "name": "stdout",
     "output_type": "stream",
     "text": [
      "{'track_name': 'Diddy Bop', 'track_pop': 59, 'artist': 'Noname', 'artist_pop': 52, 'album': 'Telefone', 'length': 208000, 'track_uri': 'spotify:track:7CRPXJt3IVC7V0VcM0PSQi', 'danceability': 0.637, 'energy': 0.503, 'key': 1, 'loudness': -6.927, 'mode': 1, 'speechiness': 0.336, 'acousticness': 0.713, 'instrumentalness': 0.000113, 'liveness': 0.109, 'valence': 0.661, 'tempo': 81.061, 'type': 'audio_features', 'id': '7CRPXJt3IVC7V0VcM0PSQi', 'uri': 'spotify:track:7CRPXJt3IVC7V0VcM0PSQi', 'track_href': 'https://api.spotify.com/v1/tracks/7CRPXJt3IVC7V0VcM0PSQi', 'analysis_url': 'https://api.spotify.com/v1/audio-analysis/7CRPXJt3IVC7V0VcM0PSQi', 'duration_ms': 208000, 'time_signature': 4}\n"
     ]
    }
   ],
   "source": [
    "# testing spotipy\n",
    "test_song = 'https://open.spotify.com/track/7CRPXJt3IVC7V0VcM0PSQi?si=79e0c2a7a20d49eb'\n",
    "\n",
    "info = spot.get_track_info(test_song)\n",
    "print(info)\n"
   ]
  },
  {
   "cell_type": "code",
   "execution_count": 5,
   "metadata": {},
   "outputs": [],
   "source": [
    "# directory of original data\n",
    "DATAPATH = '../data/chartex'\n",
    "\n",
    "# directory of processed data\n",
    "OUTPATH = '../data/chartex_processed'"
   ]
  },
  {
   "cell_type": "code",
   "execution_count": 3,
   "metadata": {},
   "outputs": [
    {
     "data": {
      "application/vnd.jupyter.widget-view+json": {
       "model_id": "cb555762fe5241dea93f0ebd6b46fb7c",
       "version_major": 2,
       "version_minor": 0
      },
      "text/plain": [
       "pages: 0it [00:00, ?it/s]"
      ]
     },
     "metadata": {},
     "output_type": "display_data"
    }
   ],
   "source": [
    "def chartex_to_csv(page_path, out_path):\n",
    "    '''add spotify data to chartex data and save to csv'''\n",
    "    page_data = src.file_utils.load_json(page_path)\n",
    "    assert(page_data)\n",
    "    tracks = []\n",
    "    for chartex_track_info in tqdm(page_data['results'], desc=f'tracks'):\n",
    "        spoitfy_id = chartex_track_info['spotify_platform_id']\n",
    "        if not spoitfy_id:\n",
    "            continue\n",
    "        track_info = spot.get_track_info(spoitfy_id)\n",
    "        track_info.update(chartex_track_info)\n",
    "        tracks.append(track_info)\n",
    "        \n",
    "    df = pd.DataFrame(tracks)\n",
    "    df.to_csv(out_path, index=False)\n",
    "\n",
    "# getting spotify data for all pages\n",
    "for page in tqdm(range(0), desc='pages'):\n",
    "    page_path = f'{DATAPATH}/page{page}.json'\n",
    "    out_path = f'{OUTPATH}/page{page}.csv'\n",
    "    chartex_to_csv(page_path, out_path)\n"
   ]
  },
  {
   "cell_type": "code",
   "execution_count": 6,
   "metadata": {},
   "outputs": [],
   "source": [
    "#combining all csv files into one\n",
    "merged_path = '../data/chartex_merged.csv'\n",
    "src.file_utils.merge_csv(OUTPATH, merged_path)"
   ]
  },
  {
   "cell_type": "code",
   "execution_count": 7,
   "metadata": {},
   "outputs": [],
   "source": [
    "# remove unnecessary columns \n",
    "clean_path = \"../data/chartex_clean.csv\"\n",
    "to_drop = [\"type\", \"uri\", \"track_uri\", \"track_href\", \"rank\", \"youtube_platform_id\", \n",
    "           \"tiktok_platform_id\", \"itunes_platform_id\", \"spotify_platform_id\" ,\n",
    "           \"itunes_album_platform_id\", \"song_guid\", \"analysis_url\"]\n",
    "\n",
    "df = pd.read_csv(merged_path)\n",
    "df = df.drop(to_drop, axis=1)\n",
    "\n",
    "# sort by number of videos column descending\n",
    "df = df.sort_values(by=\"number_of_videos\", ascending=False)\n",
    "\n",
    "# save to csv\n",
    "df.to_csv(clean_path, index=False)"
   ]
  }
 ],
 "metadata": {
  "kernelspec": {
   "display_name": "venv",
   "language": "python",
   "name": "python3"
  },
  "language_info": {
   "codemirror_mode": {
    "name": "ipython",
    "version": 3
   },
   "file_extension": ".py",
   "mimetype": "text/x-python",
   "name": "python",
   "nbconvert_exporter": "python",
   "pygments_lexer": "ipython3",
   "version": "3.10.10"
  },
  "orig_nbformat": 4
 },
 "nbformat": 4,
 "nbformat_minor": 2
}
