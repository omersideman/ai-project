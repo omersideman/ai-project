{
 "cells": [
  {
   "cell_type": "code",
   "execution_count": 9,
   "metadata": {},
   "outputs": [],
   "source": [
    "import sys\n",
    "sys.path.append('..')\n",
    "\n",
    "import os\n",
    "from dotenv import load_dotenv\n",
    "import pandas as pd\n",
    "from tqdm.notebook import tqdm\n",
    "\n",
    "from src.spotify import Spotify\n",
    "import src.file_utils \n",
    "\n",
    "spot = Spotify()"
   ]
  },
  {
   "cell_type": "code",
   "execution_count": 4,
   "metadata": {},
   "outputs": [],
   "source": [
    "# directory of original data\n",
    "DATAPATH = '../data/chartex'\n",
    "\n",
    "# directory of processed data\n",
    "OUTPATH = '../data/chartex_processed'"
   ]
  },
  {
   "cell_type": "code",
   "execution_count": 5,
   "metadata": {},
   "outputs": [
    {
     "data": {
      "application/vnd.jupyter.widget-view+json": {
       "model_id": "f989b229616647a392821216c66e5813",
       "version_major": 2,
       "version_minor": 0
      },
      "text/plain": [
       "pages: 0it [00:00, ?it/s]"
      ]
     },
     "metadata": {},
     "output_type": "display_data"
    }
   ],
   "source": [
    "def chartex_to_csv(page_path, out_path):\n",
    "    '''add spotify data to chartex data and save to csv'''\n",
    "    page_data = src.file_utils.load_json(page_path)\n",
    "    assert(page_data)\n",
    "    tracks = []\n",
    "    for chartex_track_info in tqdm(page_data['results'], desc=f'tracks'):\n",
    "        spoitfy_id = chartex_track_info['spotify_platform_id']\n",
    "        if not spoitfy_id:\n",
    "            continue\n",
    "        track_info = spot.get_track_info(spoitfy_id)\n",
    "        track_info.update(chartex_track_info)\n",
    "        tracks.append(track_info)\n",
    "        \n",
    "    df = pd.DataFrame(tracks)\n",
    "    df.to_csv(out_path, index=False)\n",
    "\n",
    "# getting spotify data for all pages\n",
    "for page in tqdm(range(0), desc='pages'):\n",
    "    page_path = f'{DATAPATH}/page{page}.json'\n",
    "    out_path = f'{OUTPATH}/page{page}.csv'\n",
    "    chartex_to_csv(page_path, out_path)\n"
   ]
  },
  {
   "cell_type": "code",
   "execution_count": 7,
   "metadata": {},
   "outputs": [],
   "source": [
    "#combining all csv files into one\n",
    "merged_path = '../data/chartex_merged.csv'\n",
    "#src.file_utils.merge_csv(OUTPATH, merged_path)\n",
    "src.file_utils.merge_csv(OUTPATH, merged_path)"
   ]
  },
  {
   "cell_type": "code",
   "execution_count": 8,
   "metadata": {},
   "outputs": [],
   "source": [
    "# remove unnecessary columns \n",
    "clean_path = \"../data/chartex_clean.csv\"\n",
    "to_drop = [\"type\", \"uri\", \"track_uri\", \"track_href\", \"rank\", \"youtube_platform_id\", \n",
    "           \"tiktok_platform_id\", \"itunes_platform_id\", \"spotify_platform_id\" ,\n",
    "           \"itunes_album_platform_id\", \"song_guid\", \"analysis_url\"]\n",
    "\n",
    "df = pd.read_csv(merged_path)\n",
    "df = df.drop(to_drop, axis=1)\n",
    "\n",
    "# sort by number of videos column descending\n",
    "df = df.sort_values(by=\"number_of_videos\", ascending=False)\n",
    "\n",
    "# save to csv\n",
    "df.to_csv(clean_path, index=False)"
   ]
  }
 ],
 "metadata": {
  "kernelspec": {
   "display_name": "venv",
   "language": "python",
   "name": "python3"
  },
  "language_info": {
   "codemirror_mode": {
    "name": "ipython",
    "version": 3
   },
   "file_extension": ".py",
   "mimetype": "text/x-python",
   "name": "python",
   "nbconvert_exporter": "python",
   "pygments_lexer": "ipython3",
   "version": "3.11.4"
  },
  "orig_nbformat": 4
 },
 "nbformat": 4,
 "nbformat_minor": 2
}
