{
 "cells": [
  {
   "cell_type": "markdown",
   "metadata": {},
   "source": [
    "# Extracting Audio Features and Downloading Audio Files\n"
   ]
  },
  {
   "cell_type": "markdown",
   "metadata": {},
   "source": [
    "#### Imports\n"
   ]
  },
  {
   "cell_type": "code",
   "execution_count": 42,
   "metadata": {},
   "outputs": [],
   "source": [
    "import sys; sys.path.append(\"..\")\n",
    "import warnings; warnings.filterwarnings(\"ignore\")\n",
    "import ffmpeg\n",
    "import subprocess\n",
    "import os\n",
    "import pandas as pd\n",
    "from src.utils.audio_utils import dl_and_extract_features\n",
    "from tqdm import tqdm\n",
    "from src.utils.file_utils import create_dirs_if_not_exist"
   ]
  },
  {
   "cell_type": "markdown",
   "metadata": {},
   "source": [
    "### Feature extraction and download\n"
   ]
  },
  {
   "cell_type": "code",
   "execution_count": 43,
   "metadata": {},
   "outputs": [],
   "source": [
    "CSV_PATH = \"../data/audio_features.csv\"\n",
    "WAV_PATH = \"../data/audio_wav\"\n",
    "MP3_PATH = \"../data/audio_mp3\"\n",
    "\n",
    "df = pd.read_csv(CSV_PATH)"
   ]
  },
  {
   "cell_type": "code",
   "execution_count": 44,
   "metadata": {},
   "outputs": [],
   "source": [
    "def batch_extract(df, start_index, end_index):\n",
    "    for i in range(start_index, end_index):\n",
    "        print(f\"Processing track {i+1} of {len(df)}\")\n",
    "        track_data = df.iloc[i]\n",
    "        features = dl_and_extract_features(track_data)\n",
    "        if not features:\n",
    "            print(\n",
    "                f\"No features found for track {i+start_index} of {len(df)}, skipping...\"\n",
    "            )\n",
    "            continue\n",
    "        # add features to dataframe\n",
    "        for feature_names in features.keys():\n",
    "            df.loc[i, feature_names] = features[feature_names]\n",
    "        # save dataframe\n",
    "        df.to_csv(CSV_PATH, index=False)"
   ]
  },
  {
   "cell_type": "markdown",
   "metadata": {},
   "source": [
    "We want to skip songs that have been previously downloaded\n"
   ]
  },
  {
   "cell_type": "code",
   "execution_count": 45,
   "metadata": {},
   "outputs": [
    {
     "name": "stdout",
     "output_type": "stream",
     "text": [
      "3932\n",
      "Processing track 425 of 3932\n",
      "Found youtube url: https://www.youtube.com/watch?v=kNI44lzXjDY&pp=ygUgRW5nZWx3b29kIENyeXN0YWwgRG9scGhpbiBseXJpY3M%3D\n",
      "Downloading track 6kx8Hf1Udk4V0Ivq6zpoyG.wav\n",
      "Could not download 6kx8Hf1Udk4V0Ivq6zpoyG.wav. Error: kNI44lzXjDY is age restricted, and can't be accessed without logging in.\n",
      "No features found for track 848 of 3932, skipping...\n",
      "Processing track 738 of 3932\n",
      "Found youtube url: https://www.youtube.com/watch?v=jfKfPfyJRdk&pp=ygUoU3MwZmkxIENoaWxsIGxvZmkgdHlwZSBiZWF0ICh6elMpIGx5cmljcw%3D%3D\n",
      "Downloading track 4Ef75ndRbnsRvKEmNnLIyc.wav\n",
      "Could not download 4Ef75ndRbnsRvKEmNnLIyc.wav. Error: jfKfPfyJRdk is streaming live and cannot be loaded\n",
      "No features found for track 1474 of 3932, skipping...\n",
      "Processing track 1240 of 3932\n",
      "Found youtube url: https://www.youtube.com/watch?v=xH4PmSBYaW4&pp=ygUlTW9yZWFydCDQryDQsdGD0LTRgyDQtdCx0LDRgtGMIGx5cmljcw%3D%3D\n",
      "Downloading track 0R1oBtQDX9N7ohedYIYbqT.wav\n",
      "Could not download 0R1oBtQDX9N7ohedYIYbqT.wav. Error: xH4PmSBYaW4 is age restricted, and can't be accessed without logging in.\n",
      "No features found for track 2478 of 3932, skipping...\n",
      "Processing track 2376 of 3932\n",
      "Found youtube url: https://www.youtube.com/watch?v=byIoZh4g2Xc&pp=ygUqUEFXIFBhdHJvbCBQQVcgUGF0cm9sIE9wZW5pbmcgVGhlbWUgbHlyaWNz\n",
      "Downloading track 7n70tzvZDfdAL1j9XqsAbH.wav\n",
      "Could not download 7n70tzvZDfdAL1j9XqsAbH.wav. Error: byIoZh4g2Xc is age restricted, and can't be accessed without logging in.\n",
      "No features found for track 4750 of 3932, skipping...\n",
      "Processing track 2702 of 3932\n",
      "Found youtube url: https://www.youtube.com/watch?v=Cp9pZyt3_BU&pp=ygUyTWVsdGVkIFZpZGVvcyBGdW5rIGRvIENhY2hvcnJpbmhvIEZpYWRhcHV0YSBseXJpY3M%3D\n",
      "Downloading track 38OXUB4FO1OD3Jbd2zqKzO.wav\n",
      "Could not download 38OXUB4FO1OD3Jbd2zqKzO.wav. Error: Cp9pZyt3_BU is age restricted, and can't be accessed without logging in.\n",
      "No features found for track 5402 of 3932, skipping...\n",
      "Processing track 2865 of 3932\n",
      "Found youtube url: https://www.youtube.com/watch?v=NejMwMeZyag&pp=ygUpU2FnaSBBYml0YnVsIFN0YW5nYSAtIE9yaWdpbmFsIE1peCBseXJpY3M%3D\n",
      "Downloading track 7bbNlAhphqFH80Xk5wNvx8.wav\n",
      "Could not download 7bbNlAhphqFH80Xk5wNvx8.wav. Error: NejMwMeZyag is age restricted, and can't be accessed without logging in.\n",
      "No features found for track 5728 of 3932, skipping...\n",
      "Processing track 3016 of 3932\n",
      "Found youtube url: https://www.youtube.com/watch?v=42M3esYyHdw&pp=ygUjUmFpbiBTb3VuZHMgR2VudGxlIFJhaW4gRmFsbCBseXJpY3M%3D\n",
      "Downloading track 14NEgZFbFI38a0TsxaKNoV.wav\n",
      "Could not download 14NEgZFbFI38a0TsxaKNoV.wav. Error: 42M3esYyHdw is streaming live and cannot be loaded\n",
      "No features found for track 6030 of 3932, skipping...\n",
      "Processing track 3730 of 3932\n",
      "Found youtube url: https://www.youtube.com/watch?v=i7OaDY8gFk8&pp=ygUgVHVqYW1vIFdobyAtIE9yaWdpbmFsIE1peCBseXJpY3M%3D\n",
      "Downloading track 5FazEiqizYEPMTtREwipKG.wav\n",
      "Could not download 5FazEiqizYEPMTtREwipKG.wav. Error: i7OaDY8gFk8 is age restricted, and can't be accessed without logging in.\n",
      "No features found for track 7458 of 3932, skipping...\n"
     ]
    }
   ],
   "source": [
    "downloaded_songs = os.listdir(WAV_PATH)\n",
    "num_of_songs = len(df.index)\n",
    "print(num_of_songs)\n",
    "\n",
    "for i in range(num_of_songs):\n",
    "    curr_song = df.iloc[i]\n",
    "    if not curr_song[\"id\"] + \".wav\" in downloaded_songs:\n",
    "        batch_extract(df, i, i + 1)"
   ]
  },
  {
   "cell_type": "markdown",
   "metadata": {},
   "source": [
    "We couldn't download most of those missing songs. We will ignore them.\n",
    "\n",
    "Next, we will convert the audio files from MP4 format to MP3 format in order to be able to use it in the torchaudio library:\n"
   ]
  },
  {
   "cell_type": "code",
   "execution_count": 48,
   "metadata": {},
   "outputs": [
    {
     "name": "stderr",
     "output_type": "stream",
     "text": [
      " 27%|██▋       | 1049/3924 [01:31<50:30,  1.05s/it] "
     ]
    }
   ],
   "source": [
    "create_dirs_if_not_exist(MP3_PATH)\n",
    "\n",
    "for song in tqdm(downloaded_songs):\n",
    "    song_path = os.path.join(WAV_PATH, song)\n",
    "    conv_song_path = os.path.join(MP3_PATH, song[:-4] + \".mp3\")\n",
    "    # check if song is already converted\n",
    "    if os.path.exists(conv_song_path):\n",
    "        # print(f\"Song {song} already converted, skipping...\")\n",
    "        continue\n",
    "    ffmpeg_command = f\"ffmpeg -hide_banner -loglevel error -i {song_path} -vn -acodec libmp3lame -q:a 4 -ar 22050 {conv_song_path}\"\n",
    "    subprocess.run(ffmpeg_command, shell=True)"
   ]
  },
  {
   "cell_type": "markdown",
   "metadata": {},
   "source": [
    "Deleting songs that could not be downloaded:"
   ]
  },
  {
   "cell_type": "code",
   "execution_count": null,
   "metadata": {},
   "outputs": [],
   "source": [
    "df = pd.read_csv(../data/audio_features.csv)\n",
    "converted_songs = [song[:-4] for song in os.listdir(MP3_PATH)]\n",
    "df = df[(df[\"id\"].isin(converted_songs))]"
   ]
  },
  {
   "cell_type": "markdown",
   "metadata": {},
   "source": [
    "We notice that duration_ms is not correct and thus we will fix it:\n"
   ]
  },
  {
   "cell_type": "code",
   "execution_count": null,
   "metadata": {},
   "outputs": [],
   "source": [
    "def get_duration_ffmpeg(file_path):\n",
    "    probe = ffmpeg.probe(file_path)\n",
    "    stream = next(\n",
    "        (stream for stream in probe[\"streams\"]\n",
    "         if stream[\"codec_type\"] == \"audio\"), None\n",
    "    )\n",
    "    duration = float(stream[\"duration\"])\n",
    "    return duration"
   ]
  },
  {
   "cell_type": "code",
   "execution_count": null,
   "metadata": {},
   "outputs": [
    {
     "name": "stderr",
     "output_type": "stream",
     "text": [
      "0it [00:00, ?it/s]\n"
     ]
    }
   ],
   "source": [
    "for i in tqdm(df.index):\n",
    "    df.loc[i, \"duration_ms\"] = (\n",
    "        get_duration_ffmpeg(\"../data/audio/\" + df.loc[i, \"id\"] + \".mp3\") * 1000\n",
    "    )"
   ]
  },
  {
   "cell_type": "markdown",
   "metadata": {},
   "source": [
    "and we will delete all songs that are shorter than 30 seconds and longer than 5 minutes:\n"
   ]
  },
  {
   "cell_type": "code",
   "execution_count": null,
   "metadata": {},
   "outputs": [],
   "source": [
    "df = df[(df[\"duration_ms\"] < 5 * 60 * 1000) & (df[\"duration_ms\"] >= 30 * 1000)]"
   ]
  },
  {
   "cell_type": "markdown",
   "metadata": {},
   "source": [
    "Saving to CSV"
   ]
  },
  {
   "cell_type": "code",
   "execution_count": null,
   "metadata": {},
   "outputs": [],
   "source": [
    "df.to_csv(CSV_PATH, index=False)"
   ]
  }
 ],
 "metadata": {
  "kernelspec": {
   "display_name": "venv",
   "language": "python",
   "name": "python3"
  },
  "language_info": {
   "codemirror_mode": {
    "name": "ipython",
    "version": 3
   },
   "file_extension": ".py",
   "mimetype": "text/x-python",
   "name": "python",
   "nbconvert_exporter": "python",
   "pygments_lexer": "ipython3",
   "version": "3.10.10"
  },
  "orig_nbformat": 4
 },
 "nbformat": 4,
 "nbformat_minor": 2
}
