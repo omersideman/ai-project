{
 "cells": [
  {
   "cell_type": "code",
   "execution_count": 2,
   "metadata": {},
   "outputs": [],
   "source": [
    "import sys\n",
    "sys.path.append('..')\n",
    "import pandas as pd\n",
    "from src.utils.audio_utils import get_audio_features\n",
    "import warnings\n",
    "warnings.filterwarnings('ignore')"
   ]
  },
  {
   "cell_type": "code",
   "execution_count": 3,
   "metadata": {},
   "outputs": [],
   "source": [
    "csv_path = \"../data/chartex_final.csv\""
   ]
  },
  {
   "cell_type": "markdown",
   "metadata": {},
   "source": [
    "sorting data by popularity"
   ]
  },
  {
   "cell_type": "code",
   "execution_count": null,
   "metadata": {},
   "outputs": [],
   "source": [
    "# # Load the CSV file into a DataFrame\n",
    "# df = pd.read_csv(csv_path)\n",
    "\n",
    "# # Drop the 'number_of_videos_last_14days' and 'song_name' columns\n",
    "# df = df.drop(columns=['Unnamed: 0'])\n",
    "\n",
    "# # Sort the DataFrame by the 'track_name' column\n",
    "# sorted_df = df.sort_values(by='total_likes_count', ascending=False)\n",
    "\n",
    "# # Reset the index of the sorted DataFrame\n",
    "# sorted_df = sorted_df.reset_index(drop=True)\n",
    "\n",
    "# # Overwrite the original CSV file with the sorted data\n",
    "# sorted_df.to_csv(csv_path, index=False)\n",
    "\n",
    "# # Print a message to confirm that the file has output_directory overwritten\n",
    "# print(f'The file {csv_path} has been overwritten with the sorted data.')"
   ]
  },
  {
   "cell_type": "markdown",
   "metadata": {},
   "source": [
    "getting Spotify data for most popular song"
   ]
  },
  {
   "cell_type": "code",
   "execution_count": 12,
   "metadata": {},
   "outputs": [
    {
     "name": "stdout",
     "output_type": "stream",
     "text": [
      "track_name                        Love You So\n",
      "track_pop                                   0\n",
      "artist               The King Khan & BBQ Show\n",
      "artist_pop                                 37\n",
      "album                The King Khan & BBQ Show\n",
      "danceability                            0.389\n",
      "energy                                  0.896\n",
      "key                                       5.0\n",
      "loudness                               -2.622\n",
      "mode                                      1.0\n",
      "speechiness                            0.0599\n",
      "acousticness                             0.79\n",
      "instrumentalness                      0.00436\n",
      "liveness                                0.501\n",
      "valence                                 0.653\n",
      "tempo                                 115.143\n",
      "id                     4msYRkezQgynuZNubvVbHk\n",
      "duration_ms                          225240.0\n",
      "time_signature                            4.0\n",
      "artist_name          The King Khan & BBQ Show\n",
      "total_likes_count                  4187998484\n",
      "number_of_videos                     33542864\n",
      "chroma_stft                          0.390025\n",
      "rmse                                 0.326011\n",
      "spec_cent                          1795.16466\n",
      "spec_bw                           2164.226937\n",
      "rolloff                           3672.819458\n",
      "zcr                                  0.069522\n",
      "mfcc                                 2.650419\n",
      "Name: 0, dtype: object\n"
     ]
    }
   ],
   "source": [
    "# Load the CSV file into a DataFrame\n",
    "df = pd.read_csv(csv_path)\n",
    "\n",
    "# Get the first row of data\n",
    "example_track_data = df.iloc[0]\n",
    "\n",
    "# Print the resulting row\n",
    "print(example_track_data)"
   ]
  },
  {
   "cell_type": "markdown",
   "metadata": {},
   "source": [
    "extracting audio features for example song"
   ]
  },
  {
   "cell_type": "code",
   "execution_count": null,
   "metadata": {},
   "outputs": [],
   "source": [
    "audio_dir = \"../data/track_downloads\"\n",
    "\n",
    "# Get the additional audio features for the track\n",
    "features = get_audio_features(example_track_data, audio_dir)"
   ]
  },
  {
   "cell_type": "markdown",
   "metadata": {},
   "source": [
    "extracting features for all songs"
   ]
  },
  {
   "cell_type": "code",
   "execution_count": null,
   "metadata": {},
   "outputs": [],
   "source": [
    "def batch_extract(df, start_index, end_index):\n",
    "    for i in range(start_index, end_index):\n",
    "        print(f'Processing track {i+1} of {len(df)}')\n",
    "        track_data = df.iloc[i]\n",
    "        features = get_audio_features(track_data)\n",
    "        if not features:\n",
    "            print(f'No features found for track {i+start_index} of {len(df)}, skipping...') \n",
    "            continue\n",
    "        # add features to dataframe\n",
    "        for feature_names in features.keys():\n",
    "            df.loc[i, feature_names] = features[feature_names]\n",
    "        # save dataframe  \n",
    "        df.to_csv(\"../data/audio_features.csv\", index=False)\n",
    "    \n",
    "\n",
    "#for i in range(0, len(df), 10):\n",
    "#    batch_extract(df, i, i+10)\n",
    "    "
   ]
  },
  {
   "cell_type": "markdown",
   "metadata": {},
   "source": [
    "We will now check if all songs were downloaded:"
   ]
  },
  {
   "cell_type": "code",
   "execution_count": 5,
   "metadata": {},
   "outputs": [
    {
     "name": "stdout",
     "output_type": "stream",
     "text": [
      "There are missing songs\n"
     ]
    }
   ],
   "source": [
    "import os\n",
    "downloaded_songs = os.listdir('../data/track_downloads/')\n",
    "num_of_songs = len(df.index)\n",
    "print(\"All songs downloaded\" if len(downloaded_songs)==num_of_songs else \"There are missing songs\")"
   ]
  },
  {
   "cell_type": "code",
   "execution_count": null,
   "metadata": {},
   "outputs": [],
   "source": [
    "for i in range(num_of_songs):\n",
    "    curr_song = df.iloc[i]\n",
    "    if not curr_song['id'] + '.wav' in downloaded_songs:\n",
    "        batch_extract(df,i,i+1)"
   ]
  },
  {
   "cell_type": "markdown",
   "metadata": {},
   "source": [
    "We could not download most of those missing songs.\n",
    "\n",
    "Next, we will convert the audio files from MP4 format to WAV format in order to be able to use it in the torchaudio library:"
   ]
  },
  {
   "cell_type": "code",
   "execution_count": 13,
   "metadata": {},
   "outputs": [],
   "source": [
    "import os\n",
    "\n",
    "os.mkdir('../data/audio')"
   ]
  },
  {
   "cell_type": "code",
   "execution_count": 15,
   "metadata": {},
   "outputs": [
    {
     "name": "stderr",
     "output_type": "stream",
     "text": [
      "100%|██████████| 3920/3920 [4:09:50<00:00,  3.82s/it]    \n"
     ]
    }
   ],
   "source": [
    "import subprocess\n",
    "from tqdm import tqdm\n",
    "\n",
    "for song in tqdm(downloaded_songs):\n",
    "    song_path = '../data/track_downloads/' + song\n",
    "    conv_song_path = '../data/audio/' + song[:-4] + \".mp3\"\n",
    "    ffmpeg_command = f\"ffmpeg -i {song_path} -vn -acodec libmp3lame -q:a 4 -ar 22050 {conv_song_path}\"\n",
    "\n",
    "    subprocess.run(ffmpeg_command, shell=True)"
   ]
  },
  {
   "cell_type": "code",
   "execution_count": 7,
   "metadata": {},
   "outputs": [
    {
     "data": {
      "text/plain": [
       "3932"
      ]
     },
     "execution_count": 7,
     "metadata": {},
     "output_type": "execute_result"
    }
   ],
   "source": [
    "len(df)"
   ]
  },
  {
   "cell_type": "markdown",
   "metadata": {},
   "source": [
    "and now let's finish by creating the .csv of the dataset, using the threshold of $5e5$:"
   ]
  },
  {
   "cell_type": "code",
   "execution_count": 13,
   "metadata": {},
   "outputs": [],
   "source": [
    "converted_songs = [song[:-4] for song in os.listdir('../data/audio/')]\n",
    "\n",
    "\n",
    "df['viral'] = (df['number_of_videos'] > 5e5).astype('int32')\n",
    "df.drop(['track_name', 'track_pop', 'artist', 'artist_pop', 'album','number_of_videos'\\\n",
    "        'time_signature', 'artist_name','total_likes_count', 'number_of_videos',\\\n",
    "        'chroma_stft', 'rmse','spec_cent', 'spec_bw', 'rolloff', 'zcr', 'mfcc'], axis=1, errors = 'ignore',inplace=True)\n",
    "\n",
    "df = df[df['id'].isin(converted_songs)]"
   ]
  },
  {
   "cell_type": "code",
   "execution_count": 16,
   "metadata": {},
   "outputs": [],
   "source": [
    "df.to_csv(\"../data/metadata.csv\")"
   ]
  },
  {
   "cell_type": "markdown",
   "metadata": {},
   "source": [
    "# Garbage:"
   ]
  },
  {
   "cell_type": "code",
   "execution_count": 8,
   "metadata": {},
   "outputs": [
    {
     "data": {
      "text/plain": [
       "CompletedProcess(args='ffmpeg -i ../data/track_downloads/00QH0dk4fdur44J1lfbhqv.wav -vn -acodec libmp3lame -q:a 4 -ar 22050 ../data/conv_audio.mp3', returncode=0)"
      ]
     },
     "execution_count": 8,
     "metadata": {},
     "output_type": "execute_result"
    }
   ],
   "source": [
    "# WAV is not compress and thus weight 170 GB on my disk... Here I try to convert the files to mp3 from the original mp4 but it took a lot of time so I give up for now.\n",
    "import subprocess\n",
    "\n",
    "song_path = '../data/track_downloads/' + '00QH0dk4fdur44J1lfbhqv.wav'\n",
    "conv_song_path = '../data/conv_audio.mp3'\n",
    "ffmpeg_command = f\"ffmpeg -i {song_path} -vn -acodec libmp3lame -q:a 4 -ar 22050 {conv_song_path}\"\n",
    "\n",
    "subprocess.run(ffmpeg_command, shell=True)"
   ]
  },
  {
   "cell_type": "code",
   "execution_count": 7,
   "metadata": {},
   "outputs": [
    {
     "name": "stdout",
     "output_type": "stream",
     "text": [
      "CompletedProcess(args='ffmpeg -i ../data/track_downloads/00QH0dk4fdur44J1lfbhqv.wav -acodec pcm_s16le -ar 22050 ../data/00QH0dk4fdur44J1lfbhqv.wav', returncode=0)\n"
     ]
    }
   ],
   "source": [
    "import subprocess\n",
    "song = '00QH0dk4fdur44J1lfbhqv.wav'\n",
    "song_path = '../data/track_downloads/' + song\n",
    "conv_song_path = '../data/' + song\n",
    "ffmpeg_command = f\"ffmpeg -i {song_path} -acodec pcm_s16le -ar 22050 {conv_song_path}\"\n",
    "print(subprocess.run(ffmpeg_command, shell=True))"
   ]
  }
 ],
 "metadata": {
  "kernelspec": {
   "display_name": "venv",
   "language": "python",
   "name": "python3"
  },
  "language_info": {
   "codemirror_mode": {
    "name": "ipython",
    "version": 3
   },
   "file_extension": ".py",
   "mimetype": "text/x-python",
   "name": "python",
   "nbconvert_exporter": "python",
   "pygments_lexer": "ipython3",
   "version": "3.11.5"
  },
  "orig_nbformat": 4
 },
 "nbformat": 4,
 "nbformat_minor": 2
}
