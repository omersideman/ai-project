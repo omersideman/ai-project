{
 "cells": [
  {
   "cell_type": "markdown",
   "metadata": {},
   "source": [
    "# Extracting Audio Features and Downloading Audio Files\n"
   ]
  },
  {
   "cell_type": "markdown",
   "metadata": {},
   "source": [
    "#### Imports\n"
   ]
  },
  {
   "cell_type": "code",
   "execution_count": 1,
   "metadata": {},
   "outputs": [],
   "source": [
    "import sys; sys.path.append(\"..\")\n",
    "import warnings; warnings.filterwarnings(\"ignore\")\n",
    "import ffmpeg\n",
    "import subprocess\n",
    "import os\n",
    "import pandas as pd\n",
    "from src.utils.audio_utils import dl_and_extract_features\n",
    "from tqdm import tqdm\n",
    "from src.utils.file_utils import create_dirs_if_not_exist"
   ]
  },
  {
   "cell_type": "markdown",
   "metadata": {},
   "source": [
    "### Feature extraction and download"
   ]
  },
  {
   "cell_type": "code",
   "execution_count": 2,
   "metadata": {},
   "outputs": [],
   "source": [
    "FINAL_PATH = '../data/csv_files//chartex_final.csv'\n",
    "CSV_PATH = \"../data/audio_features.csv\"\n",
    "WAV_PATH = \"../data/audio_wav\"\n",
    "MP3_PATH = \"../data/audio_mp3\"\n",
    "\n",
    "df = pd.read_csv(FINAL_PATH)"
   ]
  },
  {
   "cell_type": "code",
   "execution_count": null,
   "metadata": {},
   "outputs": [],
   "source": [
    "def batch_extract(df, start_index, end_index):\n",
    "    for i in range(start_index, end_index):\n",
    "        print(f\"Processing track {i+1} of {len(df)}\")\n",
    "        track_data = df.iloc[i]\n",
    "        features = dl_and_extract_features(track_data)\n",
    "        if not features:\n",
    "            print(\n",
    "                f\"No features found for track {i+start_index} of {len(df)}, skipping...\"\n",
    "            )\n",
    "            continue\n",
    "        # add features to dataframe\n",
    "        for feature_names in features.keys():\n",
    "            df.loc[i, feature_names] = features[feature_names]\n",
    "        # save dataframe\n",
    "        df.to_csv(CSV_PATH, index=False)"
   ]
  },
  {
   "cell_type": "markdown",
   "metadata": {},
   "source": [
    "We want to skip songs that have been previously downloaded\n"
   ]
  },
  {
   "cell_type": "code",
   "execution_count": null,
   "metadata": {},
   "outputs": [],
   "source": [
    "downloaded_songs = os.listdir(WAV_PATH)\n",
    "num_of_songs = len(df.index)\n",
    "print(num_of_songs)\n",
    "\n",
    "for i in range(num_of_songs):\n",
    "    curr_song = df.iloc[i]\n",
    "    if not curr_song[\"id\"] + \".wav\" in downloaded_songs:\n",
    "        batch_extract(df, i, i + 1)"
   ]
  },
  {
   "cell_type": "markdown",
   "metadata": {},
   "source": [
    "We couldn't download most of those missing songs. We will ignore them.\n",
    "\n",
    "Next, we will convert the audio files from MP4 format to MP3 format in order to be able to use it in the torchaudio library:\n"
   ]
  },
  {
   "cell_type": "code",
   "execution_count": null,
   "metadata": {},
   "outputs": [],
   "source": [
    "create_dirs_if_not_exist(MP3_PATH)\n",
    "\n",
    "for song in tqdm(downloaded_songs):\n",
    "    song_path = os.path.join(WAV_PATH, song)\n",
    "    conv_song_path = os.path.join(MP3_PATH, song[:-4] + \".mp3\")\n",
    "    # check if song is already converted\n",
    "    if os.path.exists(conv_song_path):\n",
    "        # print(f\"Song {song} already converted, skipping...\")\n",
    "        continue\n",
    "    ffmpeg_command = f\"ffmpeg -hide_banner -loglevel error -i {song_path} -vn -acodec libmp3lame -q:a 4 -ar 22050 {conv_song_path}\"\n",
    "    subprocess.run(ffmpeg_command, shell=True)"
   ]
  },
  {
   "cell_type": "markdown",
   "metadata": {},
   "source": [
    "Deleting songs that could not be downloaded:"
   ]
  },
  {
   "cell_type": "code",
   "execution_count": null,
   "metadata": {},
   "outputs": [],
   "source": [
    "df = pd.read_csv(CSV_PATH)\n",
    "converted_songs = [song[:-4] for song in os.listdir(MP3_PATH)]\n",
    "df = df[(df[\"id\"].isin(converted_songs))]"
   ]
  },
  {
   "cell_type": "markdown",
   "metadata": {},
   "source": [
    "We notice that duration_ms is not correct and thus we will fix it:\n"
   ]
  },
  {
   "cell_type": "code",
   "execution_count": null,
   "metadata": {},
   "outputs": [],
   "source": [
    "def get_duration_ffmpeg(file_path):\n",
    "    probe = ffmpeg.probe(file_path)\n",
    "    stream = next(\n",
    "        (stream for stream in probe[\"streams\"]\n",
    "         if stream[\"codec_type\"] == \"audio\"), None\n",
    "    )\n",
    "    duration = float(stream[\"duration\"])\n",
    "    return duration"
   ]
  },
  {
   "cell_type": "code",
   "execution_count": null,
   "metadata": {},
   "outputs": [],
   "source": [
    "for i in tqdm(df.index):\n",
    "    df.loc[i, \"duration_ms\"] = (\n",
    "        get_duration_ffmpeg(MP3_PATH + df.loc[i, \"id\"] + \".mp3\") * 1000\n",
    "    )"
   ]
  },
  {
   "cell_type": "markdown",
   "metadata": {},
   "source": [
    "and we will delete all songs that are shorter than 30 seconds and longer than 5 minutes:\n"
   ]
  },
  {
   "cell_type": "code",
   "execution_count": null,
   "metadata": {},
   "outputs": [],
   "source": [
    "df = df[(df[\"duration_ms\"] < 5 * 60 * 1000) & (df[\"duration_ms\"] >= 30 * 1000)]"
   ]
  },
  {
   "cell_type": "markdown",
   "metadata": {},
   "source": [
    "Saving to CSV"
   ]
  },
  {
   "cell_type": "code",
   "execution_count": null,
   "metadata": {},
   "outputs": [],
   "source": [
    "df.to_csv(CSV_PATH, index=False)"
   ]
  }
 ],
 "metadata": {
  "kernelspec": {
   "display_name": "venv",
   "language": "python",
   "name": "python3"
  },
  "language_info": {
   "codemirror_mode": {
    "name": "ipython",
    "version": 3
   },
   "file_extension": ".py",
   "mimetype": "text/x-python",
   "name": "python",
   "nbconvert_exporter": "python",
   "pygments_lexer": "ipython3",
   "version": "3.11.6"
  },
  "orig_nbformat": 4
 },
 "nbformat": 4,
 "nbformat_minor": 2
}
