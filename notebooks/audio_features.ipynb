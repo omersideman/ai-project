{
 "cells": [
  {
   "cell_type": "markdown",
   "metadata": {},
   "source": [
    "## Audio Features and download audio files:"
   ]
  },
  {
   "cell_type": "markdown",
   "metadata": {},
   "source": [
    "First, few imports:"
   ]
  },
  {
   "cell_type": "code",
   "execution_count": 1,
   "metadata": {},
   "outputs": [],
   "source": [
    "import sys\n",
    "sys.path.append('..')\n",
    "import pandas as pd\n",
    "from src.utils.audio_utils import get_audio_features\n",
    "import warnings\n",
    "from tqdm import tqdm\n",
    "warnings.filterwarnings('ignore')"
   ]
  },
  {
   "cell_type": "code",
   "execution_count": 2,
   "metadata": {},
   "outputs": [],
   "source": [
    "csv_path = \"../data/chartex_final.csv\""
   ]
  },
  {
   "cell_type": "markdown",
   "metadata": {},
   "source": [
    "Let's look at one sample for the dataset:"
   ]
  },
  {
   "cell_type": "code",
   "execution_count": 3,
   "metadata": {},
   "outputs": [
    {
     "name": "stdout",
     "output_type": "stream",
     "text": [
      "track_name                        Love You So\n",
      "track_pop                                   0\n",
      "artist               The King Khan & BBQ Show\n",
      "artist_pop                                 37\n",
      "album                The King Khan & BBQ Show\n",
      "danceability                            0.389\n",
      "energy                                  0.896\n",
      "key                                       5.0\n",
      "loudness                               -2.622\n",
      "mode                                      1.0\n",
      "speechiness                            0.0599\n",
      "acousticness                             0.79\n",
      "instrumentalness                      0.00436\n",
      "liveness                                0.501\n",
      "valence                                 0.653\n",
      "tempo                                 115.143\n",
      "id                     4msYRkezQgynuZNubvVbHk\n",
      "duration_ms                          225240.0\n",
      "time_signature                            4.0\n",
      "artist_name          The King Khan & BBQ Show\n",
      "total_likes_count                  4187998484\n",
      "number_of_videos                     33542864\n",
      "chroma_stft                          0.390025\n",
      "rmse                                 0.326011\n",
      "spec_cent                          1795.16466\n",
      "spec_bw                           2164.226937\n",
      "rolloff                           3672.819458\n",
      "zcr                                  0.069522\n",
      "mfcc                                 2.650419\n",
      "Name: 0, dtype: object\n"
     ]
    }
   ],
   "source": [
    "# Load the CSV file into a DataFrame\n",
    "df = pd.read_csv(csv_path)\n",
    "\n",
    "# Get the first row of data\n",
    "example_track_data = df.iloc[0]\n",
    "\n",
    "# Print the resulting row\n",
    "print(example_track_data)"
   ]
  },
  {
   "cell_type": "markdown",
   "metadata": {},
   "source": [
    "and we will extract well known features from thee audio file:"
   ]
  },
  {
   "cell_type": "code",
   "execution_count": 4,
   "metadata": {},
   "outputs": [
    {
     "name": "stdout",
     "output_type": "stream",
     "text": [
      "Found youtube url: https://www.youtube.com/watch?v=UY3sneP51iM&pp=ygUrVGhlIEtpbmcgS2hhbiAmIEJCUSBTaG93IExvdmUgWW91IFNvIGx5cmljcw%3D%3D\n",
      "Downloading track 4msYRkezQgynuZNubvVbHk.wav\n",
      "Downloaded audio to ../data/track_downloads\\4msYRkezQgynuZNubvVbHk.wav\n",
      "chroma_stft: (12, 2584)\n",
      "rmse: (1, 2584)\n",
      "spec_cent: (1, 2584)\n",
      "spec_bw: (1, 2584)\n",
      "rolloff: (1, 2584)\n",
      "zcr: (1, 2584)\n",
      "mfcc: (20, 2584)\n",
      "Extracted features: {'chroma_stft': 0.38724506, 'rmse': 0.3687946, 'spec_cent': 1762.3390761758187, 'spec_bw': 2108.894739332126, 'rolloff': 3458.9457508949304, 'zcr': 0.07204302619485294, 'mfcc': 4.0506997}\n"
     ]
    }
   ],
   "source": [
    "audio_dir = \"../data/track_downloads\"\n",
    "\n",
    "# Get the additional audio features for the track\n",
    "features = get_audio_features(example_track_data, audio_dir)"
   ]
  },
  {
   "cell_type": "markdown",
   "metadata": {},
   "source": [
    "Now that we did it for one song, we will do it for all songs in the dataset:"
   ]
  },
  {
   "cell_type": "code",
   "execution_count": null,
   "metadata": {},
   "outputs": [],
   "source": [
    "def batch_extract(df, start_index, end_index):\n",
    "    for i in range(start_index, end_index):\n",
    "        print(f'Processing track {i+1} of {len(df)}')\n",
    "        track_data = df.iloc[i]\n",
    "        features = get_audio_features(track_data)\n",
    "        if not features:\n",
    "            print(f'No features found for track {i+start_index} of {len(df)}, skipping...') \n",
    "            continue\n",
    "        # add features to dataframe\n",
    "        for feature_names in features.keys():\n",
    "            df.loc[i, feature_names] = features[feature_names]\n",
    "        # save dataframe  \n",
    "        df.to_csv(\"../data/audio_features.csv\", index=False)"
   ]
  },
  {
   "cell_type": "markdown",
   "metadata": {},
   "source": [
    "We will now check if all songs were downloaded:"
   ]
  },
  {
   "cell_type": "code",
   "execution_count": 4,
   "metadata": {},
   "outputs": [
    {
     "name": "stdout",
     "output_type": "stream",
     "text": [
      "There are missing songs\n"
     ]
    }
   ],
   "source": [
    "import os\n",
    "downloaded_songs = os.listdir('../data/track_downloads/')\n",
    "num_of_songs = len(df.index)\n",
    "print(\"All songs downloaded\" if len(downloaded_songs)==num_of_songs else \"There are missing songs\")"
   ]
  },
  {
   "cell_type": "code",
   "execution_count": null,
   "metadata": {},
   "outputs": [],
   "source": [
    "for i in range(num_of_songs):\n",
    "    curr_song = df.iloc[i]\n",
    "    if not curr_song['id'] + '.wav' in downloaded_songs:\n",
    "        batch_extract(df,i,i+1)"
   ]
  },
  {
   "cell_type": "markdown",
   "metadata": {},
   "source": [
    "We couldn't download most of those missing songs. We will ignore them.\n",
    "\n",
    "Next, we will convert the audio files from MP4 format to MP3 format in order to be able to use it in the torchaudio library:"
   ]
  },
  {
   "cell_type": "code",
   "execution_count": null,
   "metadata": {},
   "outputs": [],
   "source": [
    "import os\n",
    "\n",
    "os.mkdir('../data/audio')"
   ]
  },
  {
   "cell_type": "code",
   "execution_count": null,
   "metadata": {},
   "outputs": [],
   "source": [
    "import subprocess\n",
    "\n",
    "for song in tqdm(downloaded_songs):\n",
    "    song_path = '../data/track_downloads/' + song\n",
    "    conv_song_path = '../data/audio/' + song[:-4] + \".mp3\"\n",
    "    ffmpeg_command = f\"ffmpeg -i {song_path} -vn -acodec libmp3lame -q:a 4 -ar 22050 {conv_song_path}\"\n",
    "\n",
    "    subprocess.run(ffmpeg_command, shell=True)"
   ]
  },
  {
   "cell_type": "markdown",
   "metadata": {},
   "source": [
    "### Creating the dataset:"
   ]
  },
  {
   "cell_type": "markdown",
   "metadata": {},
   "source": [
    "Now let's finish by creating the .csv of the dataset, using the threshold of $5e5$. We will first drop all features that the model cannot infer from the audio and the new features we created:"
   ]
  },
  {
   "cell_type": "code",
   "execution_count": 5,
   "metadata": {},
   "outputs": [],
   "source": [
    "converted_songs = [song[:-4] for song in os.listdir('../data/audio/')]\n",
    "\n",
    "\n",
    "df['viral'] = (df['number_of_videos'] > 5e5).astype('int32')\n",
    "df.drop(['track_name', 'track_pop', 'artist', 'artist_pop', 'album','number_of_videos'\\\n",
    "        'time_signature', 'artist_name','total_likes_count', 'number_of_videos',\\\n",
    "        'chroma_stft', 'rmse','spec_cent', 'spec_bw', 'rolloff', 'zcr', 'mfcc'], axis=1, errors = 'ignore',inplace=True)"
   ]
  },
  {
   "cell_type": "markdown",
   "metadata": {},
   "source": [
    "and delete all songs from the dataframe that we couldn't download:"
   ]
  },
  {
   "cell_type": "code",
   "execution_count": 6,
   "metadata": {},
   "outputs": [],
   "source": [
    "df = df[(df['id'].isin(converted_songs))]"
   ]
  },
  {
   "cell_type": "markdown",
   "metadata": {},
   "source": [
    "We notice that duration_ms is not correct and thus we will fix it:"
   ]
  },
  {
   "cell_type": "code",
   "execution_count": 7,
   "metadata": {},
   "outputs": [],
   "source": [
    "import ffmpeg\n",
    "def get_duration_ffmpeg(file_path):\n",
    "   probe = ffmpeg.probe(file_path)\n",
    "   stream = next((stream for stream in probe['streams'] if stream['codec_type'] == 'audio'), None)\n",
    "   duration = float(stream['duration'])\n",
    "   return duration"
   ]
  },
  {
   "cell_type": "code",
   "execution_count": 8,
   "metadata": {},
   "outputs": [
    {
     "name": "stderr",
     "output_type": "stream",
     "text": [
      "100%|██████████| 3915/3915 [01:45<00:00, 36.97it/s]\n"
     ]
    }
   ],
   "source": [
    "for i in tqdm(df.index):\n",
    "    df.loc[i,'duration_ms'] = get_duration_ffmpeg('../data/audio/' + df.loc[i,'id'] + '.mp3') * 1000"
   ]
  },
  {
   "cell_type": "markdown",
   "metadata": {},
   "source": [
    "and we will delete all songs that are shorter than 30 seconds and longer than 5 minutes:"
   ]
  },
  {
   "cell_type": "code",
   "execution_count": 9,
   "metadata": {},
   "outputs": [],
   "source": [
    "df = df[(df['duration_ms']< 5*60*1000) & (df['duration_ms']>= 30*1000)]"
   ]
  },
  {
   "cell_type": "code",
   "execution_count": 13,
   "metadata": {},
   "outputs": [],
   "source": [
    "df.to_csv(\"../data/metadata.csv\")"
   ]
  }
 ],
 "metadata": {
  "kernelspec": {
   "display_name": "venv",
   "language": "python",
   "name": "python3"
  },
  "language_info": {
   "codemirror_mode": {
    "name": "ipython",
    "version": 3
   },
   "file_extension": ".py",
   "mimetype": "text/x-python",
   "name": "python",
   "nbconvert_exporter": "python",
   "pygments_lexer": "ipython3",
   "version": "3.11.5"
  },
  "orig_nbformat": 4
 },
 "nbformat": 4,
 "nbformat_minor": 2
}
