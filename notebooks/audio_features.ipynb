{
 "cells": [
  {
   "cell_type": "code",
   "execution_count": null,
   "metadata": {},
   "outputs": [],
   "source": [
    "import sys\n",
    "sys.path.append('..')\n",
    "import pandas as pd\n",
    "from src.utils.audio_utils import get_audio_features\n",
    "from tqdm import tqdm"
   ]
  },
  {
   "cell_type": "code",
   "execution_count": null,
   "metadata": {},
   "outputs": [],
   "source": [
    "csv_path = \"../data/chartex_final.csv\""
   ]
  },
  {
   "cell_type": "markdown",
   "metadata": {},
   "source": [
    "sorting data by popularity"
   ]
  },
  {
   "cell_type": "code",
   "execution_count": null,
   "metadata": {},
   "outputs": [],
   "source": [
    "# # Load the CSV file into a DataFrame\n",
    "# df = pd.read_csv(csv_path)\n",
    "\n",
    "# # Drop the 'number_of_videos_last_14days' and 'song_name' columns\n",
    "# df = df.drop(columns=['Unnamed: 0'])\n",
    "\n",
    "# # Sort the DataFrame by the 'track_name' column\n",
    "# sorted_df = df.sort_values(by='total_likes_count', ascending=False)\n",
    "\n",
    "# # Reset the index of the sorted DataFrame\n",
    "# sorted_df = sorted_df.reset_index(drop=True)\n",
    "\n",
    "# # Overwrite the original CSV file with the sorted data\n",
    "# sorted_df.to_csv(csv_path, index=False)\n",
    "\n",
    "# # Print a message to confirm that the file has output_directory overwritten\n",
    "# print(f'The file {csv_path} has been overwritten with the sorted data.')"
   ]
  },
  {
   "cell_type": "markdown",
   "metadata": {},
   "source": [
    "getting Spotify data for most popular song"
   ]
  },
  {
   "cell_type": "code",
   "execution_count": null,
   "metadata": {},
   "outputs": [],
   "source": [
    "# Load the CSV file into a DataFrame\n",
    "df = pd.read_csv(csv_path)\n",
    "\n",
    "# Get the first row of data\n",
    "example_track_data = df.iloc[0]\n",
    "\n",
    "# Print the resulting row\n",
    "print(example_track_data)"
   ]
  },
  {
   "cell_type": "markdown",
   "metadata": {},
   "source": [
    "extracting audio features for example song"
   ]
  },
  {
   "cell_type": "code",
   "execution_count": null,
   "metadata": {},
   "outputs": [],
   "source": [
    "%%time\n",
    "\n",
    "audio_dir = \"../data/track_downloads\"\n",
    "\n",
    "# Get the additional audio features for the track\n",
    "features = get_audio_features(example_track_data, audio_dir)"
   ]
  },
  {
   "cell_type": "markdown",
   "metadata": {},
   "source": [
    "extracting for all songs"
   ]
  },
  {
   "cell_type": "code",
   "execution_count": null,
   "metadata": {},
   "outputs": [],
   "source": [
    "def batch_download(df, start_index, end_index):\n",
    "    for i in range(start_index, end_index):\n",
    "        print(f'Processing track {i+1} of {len(df)}')\n",
    "        track_data = df.iloc[i]\n",
    "        features = get_audio_features(track_data)\n",
    "        if not features:\n",
    "            print(f'No features found for track {i+start_index} of {len(df)}, skipping...') \n",
    "            continue\n",
    "        # add features to dataframe\n",
    "        for feature_names in features.keys():\n",
    "            df.loc[i, feature_names] = features[feature_names]\n",
    "        # save dataframe  \n",
    "        df.to_csv(csv_path, index=False)\n",
    "    \n",
    "\n",
    "for i in range(0, len(df), 10):\n",
    "    batch_download(df, i, i+10)\n",
    "    "
   ]
  },
  {
   "cell_type": "code",
   "execution_count": null,
   "metadata": {},
   "outputs": [],
   "source": [
    "df.head()"
   ]
  }
 ],
 "metadata": {
  "kernelspec": {
   "display_name": "venv",
   "language": "python",
   "name": "python3"
  },
  "language_info": {
   "codemirror_mode": {
    "name": "ipython",
    "version": 3
   },
   "file_extension": ".py",
   "mimetype": "text/x-python",
   "name": "python",
   "nbconvert_exporter": "python",
   "pygments_lexer": "ipython3",
   "version": "3.10.10"
  },
  "orig_nbformat": 4
 },
 "nbformat": 4,
 "nbformat_minor": 2
}
