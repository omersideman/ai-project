{
 "cells": [
  {
   "cell_type": "code",
   "execution_count": 2,
   "metadata": {},
   "outputs": [
    {
     "ename": "SyntaxError",
     "evalue": "invalid syntax (audio_utils.py, line 32)",
     "output_type": "error",
     "traceback": [
      "Traceback \u001b[0;36m(most recent call last)\u001b[0m:\n",
      "\u001b[0m  File \u001b[1;32m~/dev/technion/ai-project/venv/lib/python3.10/site-packages/IPython/core/interactiveshell.py:3508\u001b[0m in \u001b[1;35mrun_code\u001b[0m\n    exec(code_obj, self.user_global_ns, self.user_ns)\u001b[0m\n",
      "\u001b[0;36m  Cell \u001b[0;32mIn[2], line 5\u001b[0;36m\n\u001b[0;31m    from src.audio_utils import get_audio_features\u001b[0;36m\n",
      "\u001b[0;36m  File \u001b[0;32m~/dev/technion/ai-project/notebooks/../src/audio_utils.py:32\u001b[0;36m\u001b[0m\n\u001b[0;31m    Exception as e:\u001b[0m\n\u001b[0m              ^\u001b[0m\n\u001b[0;31mSyntaxError\u001b[0m\u001b[0;31m:\u001b[0m invalid syntax\n"
     ]
    }
   ],
   "source": [
    "import sys\n",
    "sys.path.append('..')\n",
    "\n",
    "import pandas as pd\n",
    "from src.audio_utils import get_audio_features\n",
    "from tqdm import tqdm"
   ]
  },
  {
   "cell_type": "code",
   "execution_count": null,
   "metadata": {},
   "outputs": [],
   "source": [
    "csv_path = \"../data/chartex_final.csv\""
   ]
  },
  {
   "cell_type": "markdown",
   "metadata": {},
   "source": [
    "sorting data by popularity"
   ]
  },
  {
   "cell_type": "code",
   "execution_count": null,
   "metadata": {},
   "outputs": [],
   "source": [
    "# # Load the CSV file into a DataFrame\n",
    "# df = pd.read_csv(csv_path)\n",
    "\n",
    "# # Drop the 'number_of_videos_last_14days' and 'song_name' columns\n",
    "# df = df.drop(columns=['Unnamed: 0'])\n",
    "\n",
    "# # Sort the DataFrame by the 'track_name' column\n",
    "# sorted_df = df.sort_values(by='total_likes_count', ascending=False)\n",
    "\n",
    "# # Reset the index of the sorted DataFrame\n",
    "# sorted_df = sorted_df.reset_index(drop=True)\n",
    "\n",
    "# # Overwrite the original CSV file with the sorted data\n",
    "# sorted_df.to_csv(csv_path, index=False)\n",
    "\n",
    "# # Print a message to confirm that the file has output_directory overwritten\n",
    "# print(f'The file {csv_path} has been overwritten with the sorted data.')"
   ]
  },
  {
   "cell_type": "markdown",
   "metadata": {},
   "source": [
    "getting Spotify data for most popular song"
   ]
  },
  {
   "cell_type": "code",
   "execution_count": null,
   "metadata": {},
   "outputs": [
    {
     "name": "stdout",
     "output_type": "stream",
     "text": [
      "track_name           Spongebob Tomfoolery - Dante9k Remix\n",
      "track_pop                                              33\n",
      "artist                                        David Snell\n",
      "artist_pop                                             12\n",
      "album                Spongebob Tomfoolery (Dante9k Remix)\n",
      "danceability                                        0.831\n",
      "energy                                              0.445\n",
      "key                                                   0.0\n",
      "loudness                                          -14.492\n",
      "mode                                                  1.0\n",
      "speechiness                                         0.193\n",
      "acousticness                                       0.0257\n",
      "instrumentalness                                    0.908\n",
      "liveness                                            0.113\n",
      "valence                                             0.508\n",
      "tempo                                             125.015\n",
      "id                                 5RUBtOzrUcM0tIRozgRtzA\n",
      "duration_ms                                      151680.0\n",
      "time_signature                                        4.0\n",
      "artist_name                                   David Snell\n",
      "total_likes_count                              1590913470\n",
      "number_of_videos                                  6200000\n",
      "chroma_stft                                      0.293281\n",
      "rmse                                             0.057168\n",
      "spec_cent                                     1877.152916\n",
      "spec_bw                                       1771.122476\n",
      "rolloff                                       3266.246916\n",
      "zcr                                              0.107654\n",
      "mfcc                                           -12.507167\n",
      "Name: 1, dtype: object\n"
     ]
    }
   ],
   "source": [
    "# Load the CSV file into a DataFrame\n",
    "df = pd.read_csv(csv_path)\n",
    "\n",
    "# Get the first row of data\n",
    "example_track_data = df.iloc[1]\n",
    "\n",
    "# Print the resulting row\n",
    "print(example_track_data)"
   ]
  },
  {
   "cell_type": "markdown",
   "metadata": {},
   "source": [
    "extracting audio features"
   ]
  },
  {
   "cell_type": "code",
   "execution_count": null,
   "metadata": {},
   "outputs": [
    {
     "name": "stdout",
     "output_type": "stream",
     "text": [
      "Found youtube url: https://www.youtube.com/watch?v=4qXVIbs4CR0&pp=ygU3RGF2aWQgU25lbGwgU3BvbmdlYm9iIFRvbWZvb2xlcnkgLSBEYW50ZTlrIFJlbWl4IGx5cmljcw%3D%3D\n",
      "Downloaded audio to ../data/track_downloads/David Snell - Spongebob Tomfoolery - Dante9k Remix.wav\n"
     ]
    },
    {
     "name": "stderr",
     "output_type": "stream",
     "text": [
      "/Users/omersideman/dev/technion/ai-project/notebooks/../src/audio_utils.py:34: UserWarning: PySoundFile failed. Trying audioread instead.\n",
      "  y, sr = librosa.load(audio_path, mono=True, duration=30)\n",
      "/Users/omersideman/dev/technion/ai-project/venv/lib/python3.10/site-packages/librosa/core/audio.py:183: FutureWarning: librosa.core.audio.__audioread_load\n",
      "\tDeprecated as of librosa version 0.10.0.\n",
      "\tIt will be removed in librosa version 1.0.\n",
      "  y, sr_native = __audioread_load(path, offset, duration, dtype)\n"
     ]
    },
    {
     "name": "stdout",
     "output_type": "stream",
     "text": [
      "Extracted features: {'chroma_stft': 0.29328093, 'rmse': 0.057167627, 'spec_cent': 1877.152916007926, 'spec_bw': 1771.1224763016426, 'rolloff': 3266.2469161184213, 'zcr': 0.10765354404508513, 'mfcc': -12.507167}\n",
      "CPU times: user 2.86 s, sys: 665 ms, total: 3.53 s\n",
      "Wall time: 6.22 s\n"
     ]
    }
   ],
   "source": [
    "%%time\n",
    "\n",
    "audio_dir = \"../data/track_downloads\"\n",
    "\n",
    "# Get the additional audio features for the track\n",
    "features = get_audio_features(example_track_data, audio_dir)"
   ]
  },
  {
   "cell_type": "markdown",
   "metadata": {},
   "source": [
    "testing on a batch of songs"
   ]
  },
  {
   "cell_type": "code",
   "execution_count": null,
   "metadata": {},
   "outputs": [
    {
     "name": "stdout",
     "output_type": "stream",
     "text": [
      "Processing track 381 of 3932\n",
      "Found youtube url: https://www.youtube.com/watch?v=jfKfPfyJRdk&pp=ygU0TG9GaSBCeSBOYXR1cmUgTG9maSBIaXAgSG9wICYgTmF0dXJlIEFtYmlhbmNlIGx5cmljcw%3D%3D\n"
     ]
    },
    {
     "ename": "LiveStreamError",
     "evalue": "jfKfPfyJRdk is streaming live and cannot be loaded",
     "output_type": "error",
     "traceback": [
      "\u001b[0;31m---------------------------------------------------------------------------\u001b[0m",
      "\u001b[0;31mLiveStreamError\u001b[0m                           Traceback (most recent call last)",
      "Cell \u001b[0;32mIn[11], line 14\u001b[0m\n\u001b[1;32m     10\u001b[0m         df\u001b[39m.\u001b[39mto_csv(csv_path, index\u001b[39m=\u001b[39m\u001b[39mFalse\u001b[39;00m)\n\u001b[1;32m     13\u001b[0m \u001b[39mfor\u001b[39;00m i \u001b[39min\u001b[39;00m \u001b[39mrange\u001b[39m(\u001b[39m190\u001b[39m, \u001b[39mlen\u001b[39m(df), \u001b[39m10\u001b[39m):\n\u001b[0;32m---> 14\u001b[0m     batch_download(df, i, i\u001b[39m+\u001b[39;49m\u001b[39m10\u001b[39;49m, audio_dir)\n",
      "Cell \u001b[0;32mIn[11], line 5\u001b[0m, in \u001b[0;36mbatch_download\u001b[0;34m(df, start_index, end_index, audio_dir)\u001b[0m\n\u001b[1;32m      3\u001b[0m \u001b[39mprint\u001b[39m(\u001b[39mf\u001b[39m\u001b[39m'\u001b[39m\u001b[39mProcessing track \u001b[39m\u001b[39m{\u001b[39;00mi\u001b[39m+\u001b[39m\u001b[39m1\u001b[39m\u001b[39m+\u001b[39mstart_index\u001b[39m}\u001b[39;00m\u001b[39m of \u001b[39m\u001b[39m{\u001b[39;00m\u001b[39mlen\u001b[39m(df)\u001b[39m}\u001b[39;00m\u001b[39m'\u001b[39m)\n\u001b[1;32m      4\u001b[0m track_data \u001b[39m=\u001b[39m df\u001b[39m.\u001b[39miloc[i]\n\u001b[0;32m----> 5\u001b[0m features \u001b[39m=\u001b[39m get_audio_features(track_data)\n\u001b[1;32m      6\u001b[0m \u001b[39m# add features to dataframe\u001b[39;00m\n\u001b[1;32m      7\u001b[0m \u001b[39mfor\u001b[39;00m feature_names \u001b[39min\u001b[39;00m features\u001b[39m.\u001b[39mkeys():\n",
      "File \u001b[0;32m~/dev/technion/ai-project/notebooks/../src/audio_utils.py:15\u001b[0m, in \u001b[0;36mget_audio_features\u001b[0;34m(track_info, output_directory)\u001b[0m\n\u001b[1;32m     12\u001b[0m filename \u001b[39m=\u001b[39m track_info[\u001b[39m\"\u001b[39m\u001b[39martist\u001b[39m\u001b[39m\"\u001b[39m] \u001b[39m+\u001b[39m \u001b[39m\"\u001b[39m\u001b[39m - \u001b[39m\u001b[39m\"\u001b[39m \u001b[39m+\u001b[39m track_info[\u001b[39m\"\u001b[39m\u001b[39mtrack_name\u001b[39m\u001b[39m\"\u001b[39m] \u001b[39m+\u001b[39m \u001b[39m\"\u001b[39m\u001b[39m.wav\u001b[39m\u001b[39m\"\u001b[39m\n\u001b[1;32m     13\u001b[0m out_dir \u001b[39m=\u001b[39m output_directory \u001b[39mor\u001b[39;00m \u001b[39m'\u001b[39m\u001b[39mdata/track_downloads\u001b[39m\u001b[39m'\u001b[39m\n\u001b[0;32m---> 15\u001b[0m audio_path \u001b[39m=\u001b[39m download_from_youtube(youtube_url, out_dir, filename)\n\u001b[1;32m     16\u001b[0m features \u001b[39m=\u001b[39m extract_features(audio_path)\n\u001b[1;32m     18\u001b[0m \u001b[39mif\u001b[39;00m output_directory \u001b[39mis\u001b[39;00m \u001b[39mNone\u001b[39;00m:\n",
      "File \u001b[0;32m~/dev/technion/ai-project/notebooks/../src/audio_utils.py:26\u001b[0m, in \u001b[0;36mdownload_from_youtube\u001b[0;34m(url, output_directory, filename)\u001b[0m\n\u001b[1;32m     24\u001b[0m \u001b[39mdef\u001b[39;00m \u001b[39mdownload_from_youtube\u001b[39m(url, output_directory, filename):\n\u001b[1;32m     25\u001b[0m     yt \u001b[39m=\u001b[39m YouTube(url)\n\u001b[0;32m---> 26\u001b[0m     yt\u001b[39m.\u001b[39;49mstreams\u001b[39m.\u001b[39mfilter(only_audio\u001b[39m=\u001b[39m\u001b[39mTrue\u001b[39;00m)\u001b[39m.\u001b[39mfirst()\u001b[39m.\u001b[39mdownload(  \u001b[39m# type: ignore\u001b[39;00m\n\u001b[1;32m     27\u001b[0m         output_path\u001b[39m=\u001b[39moutput_directory, filename\u001b[39m=\u001b[39mfilename)\n\u001b[1;32m     28\u001b[0m     audio_path \u001b[39m=\u001b[39m os\u001b[39m.\u001b[39mpath\u001b[39m.\u001b[39mjoin(output_directory, filename)\n\u001b[1;32m     29\u001b[0m     \u001b[39mprint\u001b[39m(\u001b[39mf\u001b[39m\u001b[39m\"\u001b[39m\u001b[39mDownloaded audio to \u001b[39m\u001b[39m{\u001b[39;00maudio_path\u001b[39m}\u001b[39;00m\u001b[39m\"\u001b[39m)\n",
      "File \u001b[0;32m~/dev/technion/ai-project/venv/lib/python3.10/site-packages/pytube/__main__.py:295\u001b[0m, in \u001b[0;36mYouTube.streams\u001b[0;34m(self)\u001b[0m\n\u001b[1;32m    289\u001b[0m \u001b[39m@property\u001b[39m\n\u001b[1;32m    290\u001b[0m \u001b[39mdef\u001b[39;00m \u001b[39mstreams\u001b[39m(\u001b[39mself\u001b[39m) \u001b[39m-\u001b[39m\u001b[39m>\u001b[39m StreamQuery:\n\u001b[1;32m    291\u001b[0m \u001b[39m    \u001b[39m\u001b[39m\"\"\"Interface to query both adaptive (DASH) and progressive streams.\u001b[39;00m\n\u001b[1;32m    292\u001b[0m \n\u001b[1;32m    293\u001b[0m \u001b[39m    :rtype: :class:`StreamQuery <StreamQuery>`.\u001b[39;00m\n\u001b[1;32m    294\u001b[0m \u001b[39m    \"\"\"\u001b[39;00m\n\u001b[0;32m--> 295\u001b[0m     \u001b[39mself\u001b[39;49m\u001b[39m.\u001b[39;49mcheck_availability()\n\u001b[1;32m    296\u001b[0m     \u001b[39mreturn\u001b[39;00m StreamQuery(\u001b[39mself\u001b[39m\u001b[39m.\u001b[39mfmt_streams)\n",
      "File \u001b[0;32m~/dev/technion/ai-project/venv/lib/python3.10/site-packages/pytube/__main__.py:233\u001b[0m, in \u001b[0;36mYouTube.check_availability\u001b[0;34m(self)\u001b[0m\n\u001b[1;32m    231\u001b[0m         \u001b[39mraise\u001b[39;00m exceptions\u001b[39m.\u001b[39mVideoUnavailable(video_id\u001b[39m=\u001b[39m\u001b[39mself\u001b[39m\u001b[39m.\u001b[39mvideo_id)\n\u001b[1;32m    232\u001b[0m \u001b[39melif\u001b[39;00m status \u001b[39m==\u001b[39m \u001b[39m'\u001b[39m\u001b[39mLIVE_STREAM\u001b[39m\u001b[39m'\u001b[39m:\n\u001b[0;32m--> 233\u001b[0m     \u001b[39mraise\u001b[39;00m exceptions\u001b[39m.\u001b[39mLiveStreamError(video_id\u001b[39m=\u001b[39m\u001b[39mself\u001b[39m\u001b[39m.\u001b[39mvideo_id)\n",
      "\u001b[0;31mLiveStreamError\u001b[0m: jfKfPfyJRdk is streaming live and cannot be loaded"
     ]
    }
   ],
   "source": [
    "def batch_download(df, start_index, end_index, audio_dir):\n",
    "    for i in range(start_index, end_index):\n",
    "        print(f'Processing track {i+1+start_index} of {len(df)}')\n",
    "        track_data = df.iloc[i]\n",
    "        features = get_audio_features(track_data)\n",
    "        # add features to dataframe\n",
    "        for feature_names in features.keys():\n",
    "            df.loc[i, feature_names] = features[feature_names]\n",
    "        # save dataframe  \n",
    "        df.to_csv(csv_path, index=False)\n",
    "    \n",
    "\n",
    "for i in range(190, len(df), 10):\n",
    "    batch_download(df, i, i+10, audio_dir)\n",
    "    "
   ]
  },
  {
   "cell_type": "code",
   "execution_count": null,
   "metadata": {},
   "outputs": [
    {
     "data": {
      "text/html": [
       "<div>\n",
       "<style scoped>\n",
       "    .dataframe tbody tr th:only-of-type {\n",
       "        vertical-align: middle;\n",
       "    }\n",
       "\n",
       "    .dataframe tbody tr th {\n",
       "        vertical-align: top;\n",
       "    }\n",
       "\n",
       "    .dataframe thead th {\n",
       "        text-align: right;\n",
       "    }\n",
       "</style>\n",
       "<table border=\"1\" class=\"dataframe\">\n",
       "  <thead>\n",
       "    <tr style=\"text-align: right;\">\n",
       "      <th></th>\n",
       "      <th>track_name</th>\n",
       "      <th>track_pop</th>\n",
       "      <th>artist</th>\n",
       "      <th>artist_pop</th>\n",
       "      <th>album</th>\n",
       "      <th>danceability</th>\n",
       "      <th>energy</th>\n",
       "      <th>key</th>\n",
       "      <th>loudness</th>\n",
       "      <th>mode</th>\n",
       "      <th>...</th>\n",
       "      <th>artist_name</th>\n",
       "      <th>total_likes_count</th>\n",
       "      <th>number_of_videos</th>\n",
       "      <th>chroma_stft</th>\n",
       "      <th>rmse</th>\n",
       "      <th>spec_cent</th>\n",
       "      <th>spec_bw</th>\n",
       "      <th>rolloff</th>\n",
       "      <th>zcr</th>\n",
       "      <th>mfcc</th>\n",
       "    </tr>\n",
       "  </thead>\n",
       "  <tbody>\n",
       "    <tr>\n",
       "      <th>0</th>\n",
       "      <td>Love You So</td>\n",
       "      <td>0</td>\n",
       "      <td>The King Khan &amp; BBQ Show</td>\n",
       "      <td>37</td>\n",
       "      <td>The King Khan &amp; BBQ Show</td>\n",
       "      <td>0.389</td>\n",
       "      <td>0.896</td>\n",
       "      <td>5.0</td>\n",
       "      <td>-2.622</td>\n",
       "      <td>1.0</td>\n",
       "      <td>...</td>\n",
       "      <td>The King Khan &amp; BBQ Show</td>\n",
       "      <td>4187998484</td>\n",
       "      <td>33542864</td>\n",
       "      <td>0.390025</td>\n",
       "      <td>0.326011</td>\n",
       "      <td>1795.164660</td>\n",
       "      <td>2164.226937</td>\n",
       "      <td>3672.819458</td>\n",
       "      <td>0.069522</td>\n",
       "      <td>2.650419</td>\n",
       "    </tr>\n",
       "    <tr>\n",
       "      <th>1</th>\n",
       "      <td>Spongebob Tomfoolery - Dante9k Remix</td>\n",
       "      <td>33</td>\n",
       "      <td>David Snell</td>\n",
       "      <td>12</td>\n",
       "      <td>Spongebob Tomfoolery (Dante9k Remix)</td>\n",
       "      <td>0.831</td>\n",
       "      <td>0.445</td>\n",
       "      <td>0.0</td>\n",
       "      <td>-14.492</td>\n",
       "      <td>1.0</td>\n",
       "      <td>...</td>\n",
       "      <td>David Snell</td>\n",
       "      <td>1590913470</td>\n",
       "      <td>6200000</td>\n",
       "      <td>0.293281</td>\n",
       "      <td>0.057168</td>\n",
       "      <td>1877.152916</td>\n",
       "      <td>1771.122476</td>\n",
       "      <td>3266.246916</td>\n",
       "      <td>0.107654</td>\n",
       "      <td>-12.507167</td>\n",
       "    </tr>\n",
       "    <tr>\n",
       "      <th>2</th>\n",
       "      <td>SugarCrash!</td>\n",
       "      <td>74</td>\n",
       "      <td>ElyOtto</td>\n",
       "      <td>53</td>\n",
       "      <td>SugarCrash!</td>\n",
       "      <td>0.748</td>\n",
       "      <td>0.734</td>\n",
       "      <td>0.0</td>\n",
       "      <td>-6.499</td>\n",
       "      <td>1.0</td>\n",
       "      <td>...</td>\n",
       "      <td>ElyOtto</td>\n",
       "      <td>1548567686</td>\n",
       "      <td>4700000</td>\n",
       "      <td>0.293770</td>\n",
       "      <td>0.132078</td>\n",
       "      <td>1944.135169</td>\n",
       "      <td>1843.284434</td>\n",
       "      <td>3800.935350</td>\n",
       "      <td>0.097148</td>\n",
       "      <td>-11.325932</td>\n",
       "    </tr>\n",
       "    <tr>\n",
       "      <th>3</th>\n",
       "      <td>Home</td>\n",
       "      <td>75</td>\n",
       "      <td>Edith Whiskers</td>\n",
       "      <td>59</td>\n",
       "      <td>Home</td>\n",
       "      <td>0.725</td>\n",
       "      <td>0.199</td>\n",
       "      <td>2.0</td>\n",
       "      <td>-12.478</td>\n",
       "      <td>1.0</td>\n",
       "      <td>...</td>\n",
       "      <td>Tom Rosenthal</td>\n",
       "      <td>1536455117</td>\n",
       "      <td>1700000</td>\n",
       "      <td>0.275464</td>\n",
       "      <td>0.099697</td>\n",
       "      <td>864.490292</td>\n",
       "      <td>998.240419</td>\n",
       "      <td>1515.407503</td>\n",
       "      <td>0.044328</td>\n",
       "      <td>-7.585949</td>\n",
       "    </tr>\n",
       "    <tr>\n",
       "      <th>4</th>\n",
       "      <td>Blue Blood</td>\n",
       "      <td>7</td>\n",
       "      <td>Orchestra Heinz Kiessling</td>\n",
       "      <td>13</td>\n",
       "      <td>High Society</td>\n",
       "      <td>0.678</td>\n",
       "      <td>0.508</td>\n",
       "      <td>0.0</td>\n",
       "      <td>-13.403</td>\n",
       "      <td>1.0</td>\n",
       "      <td>...</td>\n",
       "      <td>Heinz Kiessling</td>\n",
       "      <td>1392234379</td>\n",
       "      <td>1100000</td>\n",
       "      <td>0.355247</td>\n",
       "      <td>0.092926</td>\n",
       "      <td>1683.105946</td>\n",
       "      <td>2114.052010</td>\n",
       "      <td>3641.252982</td>\n",
       "      <td>0.061494</td>\n",
       "      <td>-1.111346</td>\n",
       "    </tr>\n",
       "  </tbody>\n",
       "</table>\n",
       "<p>5 rows × 29 columns</p>\n",
       "</div>"
      ],
      "text/plain": [
       "                             track_name  track_pop                     artist  \\\n",
       "0                           Love You So          0   The King Khan & BBQ Show   \n",
       "1  Spongebob Tomfoolery - Dante9k Remix         33                David Snell   \n",
       "2                           SugarCrash!         74                    ElyOtto   \n",
       "3                                  Home         75             Edith Whiskers   \n",
       "4                            Blue Blood          7  Orchestra Heinz Kiessling   \n",
       "\n",
       "   artist_pop                                 album  danceability  energy  \\\n",
       "0          37              The King Khan & BBQ Show         0.389   0.896   \n",
       "1          12  Spongebob Tomfoolery (Dante9k Remix)         0.831   0.445   \n",
       "2          53                           SugarCrash!         0.748   0.734   \n",
       "3          59                                  Home         0.725   0.199   \n",
       "4          13                          High Society         0.678   0.508   \n",
       "\n",
       "   key  loudness  mode  ...               artist_name  total_likes_count  \\\n",
       "0  5.0    -2.622   1.0  ...  The King Khan & BBQ Show         4187998484   \n",
       "1  0.0   -14.492   1.0  ...               David Snell         1590913470   \n",
       "2  0.0    -6.499   1.0  ...                   ElyOtto         1548567686   \n",
       "3  2.0   -12.478   1.0  ...             Tom Rosenthal         1536455117   \n",
       "4  0.0   -13.403   1.0  ...           Heinz Kiessling         1392234379   \n",
       "\n",
       "   number_of_videos  chroma_stft      rmse    spec_cent      spec_bw  \\\n",
       "0          33542864     0.390025  0.326011  1795.164660  2164.226937   \n",
       "1           6200000     0.293281  0.057168  1877.152916  1771.122476   \n",
       "2           4700000     0.293770  0.132078  1944.135169  1843.284434   \n",
       "3           1700000     0.275464  0.099697   864.490292   998.240419   \n",
       "4           1100000     0.355247  0.092926  1683.105946  2114.052010   \n",
       "\n",
       "       rolloff       zcr       mfcc  \n",
       "0  3672.819458  0.069522   2.650419  \n",
       "1  3266.246916  0.107654 -12.507167  \n",
       "2  3800.935350  0.097148 -11.325932  \n",
       "3  1515.407503  0.044328  -7.585949  \n",
       "4  3641.252982  0.061494  -1.111346  \n",
       "\n",
       "[5 rows x 29 columns]"
      ]
     },
     "execution_count": 8,
     "metadata": {},
     "output_type": "execute_result"
    }
   ],
   "source": [
    "df.head()"
   ]
  }
 ],
 "metadata": {
  "kernelspec": {
   "display_name": "venv",
   "language": "python",
   "name": "python3"
  },
  "language_info": {
   "codemirror_mode": {
    "name": "ipython",
    "version": 3
   },
   "file_extension": ".py",
   "mimetype": "text/x-python",
   "name": "python",
   "nbconvert_exporter": "python",
   "pygments_lexer": "ipython3",
   "version": "3.10.10"
  },
  "orig_nbformat": 4
 },
 "nbformat": 4,
 "nbformat_minor": 2
}
