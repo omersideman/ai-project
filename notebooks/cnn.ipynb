{
  "cells": [
    {
      "cell_type": "code",
      "execution_count": 2,
      "metadata": {
        "colab": {
          "base_uri": "https://localhost:8080/"
        },
        "id": "0uTo7bRd-nta",
        "outputId": "1dfa0c01-ba3b-4b67-89ff-92218dee6a45"
      },
      "outputs": [
        {
          "name": "stdout",
          "output_type": "stream",
          "text": [
            "Mounted at /content/drive\n"
          ]
        }
      ],
      "source": [
        "import sys; sys.path.append('..')\n",
        "import torch\n",
        "from torch.utils.data import random_split\n",
        "import pandas as pd\n",
        "import torch\n",
        "import matplotlib.pyplot as plt\n",
        "from tqdm import tqdm\n",
        "import torch.nn as nn\n",
        "from google.colab import drive\n",
        "drive.mount('/content/drive')"
      ]
    },
    {
      "cell_type": "code",
      "execution_count": null,
      "metadata": {},
      "outputs": [],
      "source": [
        "try:\n",
        "    import google.colab\n",
        "    IN_COLAB = True\n",
        "except:\n",
        "    IN_COLAB = False\n",
        "\n",
        "print(\"In Colab: {}\".format(IN_COLAB))\n",
        "\n",
        "if IN_COLAB:\n",
        "  !pip install torchmetrics\n",
        "  !pip install kornia\n",
        "  !pip install torchvision\n",
        "  google.colab.drive.mount('/content/drive')\n",
        "  %cd /content/drive/My Drive/Go-Viral-Project/notebooks\n"
      ]
    },
    {
      "cell_type": "markdown",
      "metadata": {
        "id": "3hRrSd3LwqJn"
      },
      "source": [
        "# Using CNN for feature extraction from audio input"
      ]
    },
    {
      "cell_type": "code",
      "execution_count": 5,
      "metadata": {
        "colab": {
          "base_uri": "https://localhost:8080/"
        },
        "id": "cZSDFR5Ev3wi",
        "outputId": "c43cbb1d-cc3f-48a5-b1a0-3936839aeaed"
      },
      "outputs": [
        {
          "data": {
            "text/plain": [
              "<torch._C.Generator at 0x78952023a970>"
            ]
          },
          "execution_count": 5,
          "metadata": {},
          "output_type": "execute_result"
        }
      ],
      "source": [
        "AUDIO_PATH = '../data/audio'\n",
        "\n",
        "TENSOR_PATH = '../data/specs'\n",
        "\n",
        "METADATA_PATH = '../data/metadata.csv'\n",
        "\n",
        "SEED = 42\n",
        "device = torch.device(\"cuda\" if torch.cuda.is_available() else \"cpu\")\n",
        "\n",
        "torch.manual_seed(SEED)"
      ]
    },
    {
      "cell_type": "code",
      "execution_count": 6,
      "metadata": {
        "colab": {
          "base_uri": "https://localhost:8080/"
        },
        "id": "IGEM8aLYmicJ",
        "outputId": "9cc6698b-05a9-40b5-ddc3-e3dbffc840dc"
      },
      "outputs": [
        {
          "name": "stdout",
          "output_type": "stream",
          "text": [
            "Number of files not found: 0\n"
          ]
        }
      ],
      "source": [
        "# clean up df - remove songs that dont have spectrograms\n",
        "import os\n",
        "\n",
        "df = pd.read_csv('../data/metadata.csv')\n",
        "data_path = '../data/specs/'\n",
        "files_not_found = 0\n",
        "\n",
        "for idx, row in df.iterrows():\n",
        "    song_path = os.path.join(data_path, row['id'] + '.pt')\n",
        "\n",
        "    if not os.path.exists(song_path):\n",
        "        # print(f\"File not found: {song_path}\")\n",
        "        df = df.drop(idx)\n",
        "        files_not_found += 1\n",
        "\n",
        "print(f\"Number of files not found: {files_not_found}\")"
      ]
    },
    {
      "cell_type": "code",
      "execution_count": 7,
      "metadata": {
        "id": "lsh4ruwvt_md"
      },
      "outputs": [],
      "source": [
        "from torchvision import transforms\n",
        "\n",
        "def preprocess_mbnet(X):\n",
        "  prep = transforms.Compose([\n",
        "      transforms.Resize((224,2206)),\n",
        "      transforms.Normalize(mean=[0.485, 0.456, 0.406], std=[0.229, 0.224, 0.225]),\n",
        "  ])\n",
        "\n",
        "  return prep(torch.cat((X,X,X),dim=0))"
      ]
    },
    {
      "cell_type": "code",
      "execution_count": 8,
      "metadata": {
        "id": "DZts1K4Tv3wm"
      },
      "outputs": [],
      "source": [
        "from src.RNN_utils.dataset import SoundDS\n",
        "from torch.utils.data import default_collate\n",
        "\n",
        "myds = SoundDS(df, '../data/specs/', preprocess_mbnet)\n",
        "\n",
        "# Random split of 80:20 between training and validation\n",
        "num_items = len(myds)\n",
        "num_train = round(num_items * 0.8)\n",
        "num_val = num_items - num_train\n",
        "train_ds, val_ds = random_split(myds, [num_train, num_val])\n",
        "\n",
        "to_gpu = lambda x: list(map(lambda t: t.to(device), default_collate(x)))\n",
        "# Create training and validation data loaders\n",
        "train_dl = torch.utils.data.DataLoader(train_ds, batch_size=16, collate_fn = to_gpu, shuffle=True)\n",
        "val_dl = torch.utils.data.DataLoader(val_ds, batch_size=16, collate_fn = to_gpu, shuffle=False)"
      ]
    },
    {
      "cell_type": "code",
      "execution_count": 9,
      "metadata": {
        "colab": {
          "base_uri": "https://localhost:8080/"
        },
        "id": "EPgQsIO6v3wm",
        "outputId": "e2fc1398-8612-4440-c59f-45434a6ef3f0"
      },
      "outputs": [
        {
          "name": "stderr",
          "output_type": "stream",
          "text": [
            "/usr/local/lib/python3.10/dist-packages/torchvision/transforms/functional.py:1603: UserWarning: The default value of the antialias parameter of all the resizing transforms (Resize(), RandomResizedCrop(), etc.) will change from None to True in v0.17, in order to be consistent across the PIL and Tensor backends. To suppress this warning, directly pass antialias=True (recommended, future default), antialias=None (current default, which means False for Tensors and True for PIL), or antialias=False (only works on Tensors - PIL will still use antialiasing). This also applies if you are using the inference transforms from the models weights: update the call to weights.transforms(antialias=True).\n",
            "  warnings.warn(\n"
          ]
        },
        {
          "name": "stdout",
          "output_type": "stream",
          "text": [
            "num batches: 183\n",
            "batch size: 16\n",
            "channels: 3\n",
            "hight: 224 \n",
            "width: 2206\n"
          ]
        }
      ],
      "source": [
        "b_size, channels, hight, width = next(iter(train_dl))[0].shape\n",
        "num_batches = len(train_dl)\n",
        "print(f'num batches: {num_batches}\\nbatch size: {b_size}\\nchannels: {channels}\\nhight: {hight} \\nwidth: {width}')"
      ]
    },
    {
      "cell_type": "markdown",
      "metadata": {
        "id": "X-8UqpkhAMPk"
      },
      "source": [
        "## MobileNet V2:"
      ]
    },
    {
      "cell_type": "markdown",
      "metadata": {
        "id": "_WXnbel15B88"
      },
      "source": [
        "### Overfitting the model:"
      ]
    },
    {
      "cell_type": "code",
      "execution_count": null,
      "metadata": {
        "colab": {
          "base_uri": "https://localhost:8080/"
        },
        "id": "ZYBcgjeHAOVo",
        "outputId": "dd87de00-1d30-49a1-c01a-1a417355b9bc"
      },
      "outputs": [
        {
          "name": "stderr",
          "output_type": "stream",
          "text": [
            "Using cache found in /root/.cache/torch/hub/pytorch_vision_v0.10.0\n"
          ]
        }
      ],
      "source": [
        "model = torch.hub.load('pytorch/vision:v0.10.0', 'mobilenet_v2', pretrained=True)\n",
        "model.classifier = nn.Sequential(\n",
        "    nn.Linear(1280,2),\n",
        "    nn.Softmax(dim=1)\n",
        ")\n",
        "model.to(device)\n",
        "criterion = nn.CrossEntropyLoss()\n",
        "optimizer = torch.optim.Adam(model.parameters(),lr=5e-4)\n",
        "scheduler = torch.optim.lr_scheduler.StepLR(optimizer,step_size=10,gamma=0.1)\n",
        "\n",
        "epochs = 20"
      ]
    },
    {
      "cell_type": "code",
      "execution_count": null,
      "metadata": {
        "id": "Hap7fuwek5rD"
      },
      "outputs": [],
      "source": [
        "print(model)"
      ]
    },
    {
      "cell_type": "code",
      "execution_count": null,
      "metadata": {
        "colab": {
          "base_uri": "https://localhost:8080/"
        },
        "id": "9f_1xBlUHaAu",
        "outputId": "966643c1-0dc0-419b-955a-ebb02fbd5860"
      },
      "outputs": [
        {
          "data": {
            "text/plain": [
              "2226434"
            ]
          },
          "execution_count": 13,
          "metadata": {},
          "output_type": "execute_result"
        }
      ],
      "source": [
        "sum(param.numel() for param in model.parameters())"
      ]
    },
    {
      "cell_type": "code",
      "execution_count": null,
      "metadata": {
        "id": "iiqagIItBP6m"
      },
      "outputs": [],
      "source": [
        "(X,y) = next(iter(train_dl))"
      ]
    },
    {
      "cell_type": "code",
      "execution_count": null,
      "metadata": {
        "id": "Lq9cjOAJGU88"
      },
      "outputs": [],
      "source": [
        "for epoch in range(epochs):\n",
        "    optimizer.zero_grad()\n",
        "    y_prob = model(X)\n",
        "    loss = criterion(y_prob,y)\n",
        "    loss.backward()\n",
        "    optimizer.step()\n",
        "    loss = loss.item()\n",
        "    scheduler.step()\n",
        "    acc = torch.sum(torch.argmax(y_prob,dim=1)==y).item()/b_size\n",
        "    print(f'Epoch #{epoch}: Loss - {loss}, Accuracy - {acc}')"
      ]
    },
    {
      "cell_type": "markdown",
      "metadata": {
        "id": "ZCcnU7qp5GPm"
      },
      "source": [
        "### Training the model:"
      ]
    },
    {
      "cell_type": "code",
      "execution_count": null,
      "metadata": {
        "id": "QFGjLtHV47Q_"
      },
      "outputs": [],
      "source": [
        "model = torch.hub.load('pytorch/vision:v0.10.0', 'mobilenet_v2', pretrained=True)\n",
        "model.classifier = nn.Sequential(\n",
        "    nn.Linear(1280,2),\n",
        "    nn.Softmax(dim=1)\n",
        ")\n",
        "\n",
        "model.to(device)\n",
        "criterion = nn.CrossEntropyLoss()\n",
        "optimizer = torch.optim.Adam(model.parameters(),lr=1e-4, weight_decay=1e-4)\n",
        "scheduler = torch.optim.lr_scheduler.StepLR(optimizer,step_size=10,gamma=0.2)"
      ]
    },
    {
      "cell_type": "code",
      "execution_count": null,
      "metadata": {
        "id": "mnN4Jg9j5jP0"
      },
      "outputs": [],
      "source": [
        "from src.RNN_utils.trainer import trainer\n",
        "from src.RNN_utils.cross_val import crossValidate\n",
        "\n",
        "train_model = trainer(model,criterion,optimizer,scheduler,device)"
      ]
    },
    {
      "cell_type": "code",
      "execution_count": null,
      "metadata": {
        "id": "7wdtblKR6AY9"
      },
      "outputs": [],
      "source": [
        "results = train_model.train(train_dl,20,True)"
      ]
    },
    {
      "cell_type": "markdown",
      "metadata": {
        "id": "nHBZ2vynGWXz"
      },
      "source": [
        "### Cross validation:"
      ]
    },
    {
      "cell_type": "code",
      "execution_count": 10,
      "metadata": {
        "id": "gsbA3cVtv3wu"
      },
      "outputs": [],
      "source": [
        "configs = []\n",
        "results = []"
      ]
    },
    {
      "cell_type": "code",
      "execution_count": 11,
      "metadata": {
        "colab": {
          "base_uri": "https://localhost:8080/"
        },
        "id": "ZLm3apDmv3wu",
        "outputId": "36f8c1e8-5c82-4b74-f30b-8e4a622fb944"
      },
      "outputs": [
        {
          "name": "stderr",
          "output_type": "stream",
          "text": [
            "Downloading: \"https://github.com/pytorch/vision/zipball/v0.10.0\" to /root/.cache/torch/hub/v0.10.0.zip\n",
            "/usr/local/lib/python3.10/dist-packages/torchvision/models/_utils.py:208: UserWarning: The parameter 'pretrained' is deprecated since 0.13 and may be removed in the future, please use 'weights' instead.\n",
            "  warnings.warn(\n",
            "/usr/local/lib/python3.10/dist-packages/torchvision/models/_utils.py:223: UserWarning: Arguments other than a weight enum or `None` for 'weights' are deprecated since 0.13 and may be removed in the future. The current behavior is equivalent to passing `weights=MobileNet_V2_Weights.IMAGENET1K_V1`. You can also use `weights=MobileNet_V2_Weights.DEFAULT` to get the most up-to-date weights.\n",
            "  warnings.warn(msg)\n",
            "Downloading: \"https://download.pytorch.org/models/mobilenet_v2-b0353104.pth\" to /root/.cache/torch/hub/checkpoints/mobilenet_v2-b0353104.pth\n",
            "100%|██████████| 13.6M/13.6M [00:00<00:00, 122MB/s]\n"
          ]
        }
      ],
      "source": [
        "from src.RNN_utils.trainer import trainer\n",
        "from src.RNN_utils.cross_val import crossValidate\n",
        "from kornia.losses.focal import BinaryFocalLossWithLogits\n",
        "\n",
        "config = {'lr':1e-3, 'weight_decay':1e-4, 'step_size': 10, 'gamma': 0.1}\n",
        "\n",
        "model = torch.hub.load('pytorch/vision:v0.10.0', 'mobilenet_v2', pretrained=True)\n",
        "model.classifier = nn.Sequential(\n",
        "    nn.Linear(1280,2),\n",
        "    nn.Softmax(dim=1)\n",
        ")\n",
        "model.to(device)\n",
        "\n",
        "criterion = nn.CrossEntropyLoss()\n",
        "optimizer = torch.optim.Adam(model.parameters(),lr=config['lr'], weight_decay=config['weight_decay'])\n",
        "scheduler = torch.optim.lr_scheduler.StepLR(optimizer,step_size=config['step_size'],gamma=config['gamma'])\n",
        "\n",
        "train_model = trainer(model,criterion,optimizer,scheduler,device)"
      ]
    },
    {
      "cell_type": "code",
      "execution_count": 12,
      "metadata": {
        "id": "JF6fmt5pv3wu"
      },
      "outputs": [],
      "source": [
        "cv_obj = crossValidate(train_ds=train_ds, device=device, folds=3, batch_size=16)"
      ]
    },
    {
      "cell_type": "code",
      "execution_count": null,
      "metadata": {
        "colab": {
          "base_uri": "https://localhost:8080/"
        },
        "id": "3nITKrL5v3wu",
        "outputId": "971c6142-d45a-4d7e-9089-a7926de89e0a"
      },
      "outputs": [
        {
          "name": "stdout",
          "output_type": "stream",
          "text": [
            "Fold #0:\n"
          ]
        },
        {
          "name": "stderr",
          "output_type": "stream",
          "text": [
            "\rTrain Batch:   0%|          | 0/122 [00:00<?, ?it/s]/usr/local/lib/python3.10/dist-packages/torchvision/transforms/functional.py:1603: UserWarning: The default value of the antialias parameter of all the resizing transforms (Resize(), RandomResizedCrop(), etc.) will change from None to True in v0.17, in order to be consistent across the PIL and Tensor backends. To suppress this warning, directly pass antialias=True (recommended, future default), antialias=None (current default, which means False for Tensors and True for PIL), or antialias=False (only works on Tensors - PIL will still use antialiasing). This also applies if you are using the inference transforms from the models weights: update the call to weights.transforms(antialias=True).\n",
            "  warnings.warn(\n",
            "Train Batch: 100%|██████████| 122/122 [32:05<00:00, 15.78s/it]\n"
          ]
        },
        {
          "name": "stdout",
          "output_type": "stream",
          "text": [
            "Epoch #0: Loss - 83.9294042289257, Accuracy - 0.6132852729145211\n"
          ]
        },
        {
          "name": "stderr",
          "output_type": "stream",
          "text": [
            "Test Batch: 100%|██████████| 61/61 [15:26<00:00, 15.19s/it]\n"
          ]
        },
        {
          "name": "stdout",
          "output_type": "stream",
          "text": [
            "Val results: Loss - 42.07582414150238, Accuracy - 0.5534979423868313\n"
          ]
        },
        {
          "name": "stderr",
          "output_type": "stream",
          "text": [
            "Train Batch: 100%|██████████| 122/122 [01:56<00:00,  1.05it/s]\n"
          ]
        },
        {
          "name": "stdout",
          "output_type": "stream",
          "text": [
            "Epoch #1: Loss - 82.60667553544044, Accuracy - 0.6194644696189495\n"
          ]
        },
        {
          "name": "stderr",
          "output_type": "stream",
          "text": [
            "Test Batch: 100%|██████████| 61/61 [00:35<00:00,  1.72it/s]\n"
          ]
        },
        {
          "name": "stdout",
          "output_type": "stream",
          "text": [
            "Val results: Loss - 39.33746412396431, Accuracy - 0.6450617283950617\n"
          ]
        },
        {
          "name": "stderr",
          "output_type": "stream",
          "text": [
            "Train Batch: 100%|██████████| 122/122 [02:00<00:00,  1.01it/s]\n"
          ]
        },
        {
          "name": "stdout",
          "output_type": "stream",
          "text": [
            "Epoch #2: Loss - 82.16661912202835, Accuracy - 0.6179196704428425\n"
          ]
        },
        {
          "name": "stderr",
          "output_type": "stream",
          "text": [
            "Test Batch: 100%|██████████| 61/61 [00:36<00:00,  1.65it/s]\n"
          ]
        },
        {
          "name": "stdout",
          "output_type": "stream",
          "text": [
            "Val results: Loss - 40.64802020788193, Accuracy - 0.6450617283950617\n"
          ]
        },
        {
          "name": "stderr",
          "output_type": "stream",
          "text": [
            "Train Batch: 100%|██████████| 122/122 [01:58<00:00,  1.03it/s]\n"
          ]
        },
        {
          "name": "stdout",
          "output_type": "stream",
          "text": [
            "Epoch #3: Loss - 81.70745900273323, Accuracy - 0.6204943357363543\n"
          ]
        },
        {
          "name": "stderr",
          "output_type": "stream",
          "text": [
            "Test Batch: 100%|██████████| 61/61 [00:34<00:00,  1.77it/s]\n"
          ]
        },
        {
          "name": "stdout",
          "output_type": "stream",
          "text": [
            "Val results: Loss - 39.73259061574936, Accuracy - 0.6450617283950617\n"
          ]
        },
        {
          "name": "stderr",
          "output_type": "stream",
          "text": [
            "Train Batch: 100%|██████████| 122/122 [01:58<00:00,  1.03it/s]\n"
          ]
        },
        {
          "name": "stdout",
          "output_type": "stream",
          "text": [
            "Epoch #4: Loss - 81.71707057952881, Accuracy - 0.6220391349124614\n"
          ]
        },
        {
          "name": "stderr",
          "output_type": "stream",
          "text": [
            "Test Batch: 100%|██████████| 61/61 [00:34<00:00,  1.78it/s]\n"
          ]
        },
        {
          "name": "stdout",
          "output_type": "stream",
          "text": [
            "Val results: Loss - 39.46547266840935, Accuracy - 0.6450617283950617\n"
          ]
        },
        {
          "name": "stderr",
          "output_type": "stream",
          "text": [
            "Train Batch: 100%|██████████| 122/122 [01:58<00:00,  1.03it/s]\n"
          ]
        },
        {
          "name": "stdout",
          "output_type": "stream",
          "text": [
            "Epoch #5: Loss - 81.86672246456146, Accuracy - 0.6210092687950567\n"
          ]
        },
        {
          "name": "stderr",
          "output_type": "stream",
          "text": [
            "Test Batch: 100%|██████████| 61/61 [00:36<00:00,  1.68it/s]\n"
          ]
        },
        {
          "name": "stdout",
          "output_type": "stream",
          "text": [
            "Val results: Loss - 39.70036005973816, Accuracy - 0.6450617283950617\n"
          ]
        },
        {
          "name": "stderr",
          "output_type": "stream",
          "text": [
            "Train Batch: 100%|██████████| 122/122 [01:59<00:00,  1.02it/s]\n"
          ]
        },
        {
          "name": "stdout",
          "output_type": "stream",
          "text": [
            "Epoch #6: Loss - 81.11225920915604, Accuracy - 0.6220391349124614\n"
          ]
        },
        {
          "name": "stderr",
          "output_type": "stream",
          "text": [
            "Test Batch: 100%|██████████| 61/61 [00:34<00:00,  1.79it/s]\n"
          ]
        },
        {
          "name": "stdout",
          "output_type": "stream",
          "text": [
            "Val results: Loss - 39.813989102840424, Accuracy - 0.6450617283950617\n"
          ]
        },
        {
          "name": "stderr",
          "output_type": "stream",
          "text": [
            "Train Batch: 100%|██████████| 122/122 [01:58<00:00,  1.03it/s]\n"
          ]
        },
        {
          "name": "stdout",
          "output_type": "stream",
          "text": [
            "Epoch #7: Loss - 81.16790056228638, Accuracy - 0.621524201853759\n"
          ]
        },
        {
          "name": "stderr",
          "output_type": "stream",
          "text": [
            "Test Batch: 100%|██████████| 61/61 [00:35<00:00,  1.73it/s]\n"
          ]
        },
        {
          "name": "stdout",
          "output_type": "stream",
          "text": [
            "Val results: Loss - 39.81429550051689, Accuracy - 0.6450617283950617\n"
          ]
        },
        {
          "name": "stderr",
          "output_type": "stream",
          "text": [
            "Train Batch: 100%|██████████| 122/122 [01:59<00:00,  1.02it/s]\n"
          ]
        },
        {
          "name": "stdout",
          "output_type": "stream",
          "text": [
            "Epoch #8: Loss - 81.13158071041107, Accuracy - 0.6220391349124614\n"
          ]
        },
        {
          "name": "stderr",
          "output_type": "stream",
          "text": [
            "Test Batch: 100%|██████████| 61/61 [00:36<00:00,  1.67it/s]\n"
          ]
        },
        {
          "name": "stdout",
          "output_type": "stream",
          "text": [
            "Val results: Loss - 39.65514951944351, Accuracy - 0.6450617283950617\n"
          ]
        },
        {
          "name": "stderr",
          "output_type": "stream",
          "text": [
            "Train Batch: 100%|██████████| 122/122 [01:57<00:00,  1.03it/s]\n"
          ]
        },
        {
          "name": "stdout",
          "output_type": "stream",
          "text": [
            "Epoch #9: Loss - 80.91155672073364, Accuracy - 0.6210092687950567\n"
          ]
        },
        {
          "name": "stderr",
          "output_type": "stream",
          "text": [
            "Test Batch: 100%|██████████| 61/61 [00:35<00:00,  1.74it/s]\n"
          ]
        },
        {
          "name": "stdout",
          "output_type": "stream",
          "text": [
            "Val results: Loss - 39.53479582071304, Accuracy - 0.6450617283950617\n"
          ]
        },
        {
          "name": "stderr",
          "output_type": "stream",
          "text": [
            "Train Batch: 100%|██████████| 122/122 [01:57<00:00,  1.04it/s]\n"
          ]
        },
        {
          "name": "stdout",
          "output_type": "stream",
          "text": [
            "Epoch #10: Loss - 81.37294042110443, Accuracy - 0.6220391349124614\n"
          ]
        },
        {
          "name": "stderr",
          "output_type": "stream",
          "text": [
            "Test Batch: 100%|██████████| 61/61 [00:35<00:00,  1.71it/s]\n"
          ]
        },
        {
          "name": "stdout",
          "output_type": "stream",
          "text": [
            "Val results: Loss - 39.629962891340256, Accuracy - 0.6450617283950617\n"
          ]
        },
        {
          "name": "stderr",
          "output_type": "stream",
          "text": [
            "Train Batch: 100%|██████████| 122/122 [02:00<00:00,  1.02it/s]\n"
          ]
        },
        {
          "name": "stdout",
          "output_type": "stream",
          "text": [
            "Epoch #11: Loss - 80.4545875787735, Accuracy - 0.6204943357363543\n"
          ]
        },
        {
          "name": "stderr",
          "output_type": "stream",
          "text": [
            "Test Batch: 100%|██████████| 61/61 [00:36<00:00,  1.67it/s]\n"
          ]
        },
        {
          "name": "stdout",
          "output_type": "stream",
          "text": [
            "Val results: Loss - 39.533889412879944, Accuracy - 0.6450617283950617\n"
          ]
        },
        {
          "name": "stderr",
          "output_type": "stream",
          "text": [
            "Train Batch: 100%|██████████| 122/122 [01:59<00:00,  1.03it/s]\n"
          ]
        },
        {
          "name": "stdout",
          "output_type": "stream",
          "text": [
            "Epoch #12: Loss - 80.85516494512558, Accuracy - 0.6220391349124614\n"
          ]
        },
        {
          "name": "stderr",
          "output_type": "stream",
          "text": [
            "Test Batch: 100%|██████████| 61/61 [00:35<00:00,  1.70it/s]\n"
          ]
        },
        {
          "name": "stdout",
          "output_type": "stream",
          "text": [
            "Val results: Loss - 39.53888702392578, Accuracy - 0.6450617283950617\n"
          ]
        },
        {
          "name": "stderr",
          "output_type": "stream",
          "text": [
            "Train Batch: 100%|██████████| 122/122 [01:59<00:00,  1.02it/s]\n"
          ]
        },
        {
          "name": "stdout",
          "output_type": "stream",
          "text": [
            "Epoch #13: Loss - 80.26466810703278, Accuracy - 0.6204943357363543\n"
          ]
        },
        {
          "name": "stderr",
          "output_type": "stream",
          "text": [
            "Test Batch: 100%|██████████| 61/61 [00:35<00:00,  1.71it/s]\n"
          ]
        },
        {
          "name": "stdout",
          "output_type": "stream",
          "text": [
            "Val results: Loss - 39.544360995292664, Accuracy - 0.6440329218106996\n"
          ]
        },
        {
          "name": "stderr",
          "output_type": "stream",
          "text": [
            "Train Batch: 100%|██████████| 122/122 [01:59<00:00,  1.02it/s]\n"
          ]
        },
        {
          "name": "stdout",
          "output_type": "stream",
          "text": [
            "Epoch #14: Loss - 80.04754480719566, Accuracy - 0.621524201853759\n"
          ]
        },
        {
          "name": "stderr",
          "output_type": "stream",
          "text": [
            "Test Batch: 100%|██████████| 61/61 [00:36<00:00,  1.69it/s]\n"
          ]
        },
        {
          "name": "stdout",
          "output_type": "stream",
          "text": [
            "Val results: Loss - 39.440973073244095, Accuracy - 0.6450617283950617\n"
          ]
        },
        {
          "name": "stderr",
          "output_type": "stream",
          "text": [
            "Train Batch: 100%|██████████| 122/122 [01:59<00:00,  1.02it/s]\n"
          ]
        },
        {
          "name": "stdout",
          "output_type": "stream",
          "text": [
            "Epoch #15: Loss - 80.43023785948753, Accuracy - 0.6204943357363543\n"
          ]
        },
        {
          "name": "stderr",
          "output_type": "stream",
          "text": [
            "Test Batch: 100%|██████████| 61/61 [00:37<00:00,  1.65it/s]\n"
          ]
        },
        {
          "name": "stdout",
          "output_type": "stream",
          "text": [
            "Val results: Loss - 39.58375430107117, Accuracy - 0.6450617283950617\n"
          ]
        },
        {
          "name": "stderr",
          "output_type": "stream",
          "text": [
            "Train Batch: 100%|██████████| 122/122 [01:59<00:00,  1.02it/s]\n"
          ]
        },
        {
          "name": "stdout",
          "output_type": "stream",
          "text": [
            "Epoch #16: Loss - 80.24688351154327, Accuracy - 0.6184346035015448\n"
          ]
        },
        {
          "name": "stderr",
          "output_type": "stream",
          "text": [
            "Test Batch: 100%|██████████| 61/61 [00:36<00:00,  1.67it/s]\n"
          ]
        },
        {
          "name": "stdout",
          "output_type": "stream",
          "text": [
            "Val results: Loss - 39.47732424736023, Accuracy - 0.6450617283950617\n"
          ]
        },
        {
          "name": "stderr",
          "output_type": "stream",
          "text": [
            "Train Batch: 100%|██████████| 122/122 [01:59<00:00,  1.02it/s]\n"
          ]
        },
        {
          "name": "stdout",
          "output_type": "stream",
          "text": [
            "Epoch #17: Loss - 80.17758166790009, Accuracy - 0.6261585993820803\n"
          ]
        },
        {
          "name": "stderr",
          "output_type": "stream",
          "text": [
            "Test Batch: 100%|██████████| 61/61 [00:36<00:00,  1.65it/s]\n"
          ]
        },
        {
          "name": "stdout",
          "output_type": "stream",
          "text": [
            "Val results: Loss - 39.35185843706131, Accuracy - 0.6388888888888888\n"
          ]
        },
        {
          "name": "stderr",
          "output_type": "stream",
          "text": [
            "Train Batch: 100%|██████████| 122/122 [02:02<00:00,  1.00s/it]\n"
          ]
        },
        {
          "name": "stdout",
          "output_type": "stream",
          "text": [
            "Epoch #18: Loss - 80.1347608268261, Accuracy - 0.6143151390319258\n"
          ]
        },
        {
          "name": "stderr",
          "output_type": "stream",
          "text": [
            "Test Batch: 100%|██████████| 61/61 [00:36<00:00,  1.65it/s]\n"
          ]
        },
        {
          "name": "stdout",
          "output_type": "stream",
          "text": [
            "Val results: Loss - 39.39938676357269, Accuracy - 0.6450617283950617\n"
          ]
        },
        {
          "name": "stderr",
          "output_type": "stream",
          "text": [
            "Train Batch: 100%|██████████| 122/122 [02:00<00:00,  1.01it/s]\n"
          ]
        },
        {
          "name": "stdout",
          "output_type": "stream",
          "text": [
            "Epoch #19: Loss - 79.60122495889664, Accuracy - 0.6266735324407827\n"
          ]
        },
        {
          "name": "stderr",
          "output_type": "stream",
          "text": [
            "Test Batch: 100%|██████████| 61/61 [00:36<00:00,  1.66it/s]\n"
          ]
        },
        {
          "name": "stdout",
          "output_type": "stream",
          "text": [
            "Val results: Loss - 39.30166247487068, Accuracy - 0.6430041152263375\n",
            "Fold #1:\n"
          ]
        },
        {
          "name": "stderr",
          "output_type": "stream",
          "text": [
            "Train Batch: 100%|██████████| 122/122 [02:00<00:00,  1.01it/s]\n"
          ]
        },
        {
          "name": "stdout",
          "output_type": "stream",
          "text": [
            "Epoch #0: Loss - 82.40230923891068, Accuracy - 0.6320123520329387\n"
          ]
        },
        {
          "name": "stderr",
          "output_type": "stream",
          "text": [
            "Test Batch: 100%|██████████| 61/61 [00:36<00:00,  1.67it/s]\n"
          ]
        },
        {
          "name": "stdout",
          "output_type": "stream",
          "text": [
            "Val results: Loss - 42.68864643573761, Accuracy - 0.6127703398558187\n"
          ]
        },
        {
          "name": "stderr",
          "output_type": "stream",
          "text": [
            "Train Batch: 100%|██████████| 122/122 [02:00<00:00,  1.01it/s]\n"
          ]
        },
        {
          "name": "stdout",
          "output_type": "stream",
          "text": [
            "Epoch #1: Loss - 81.98349544405937, Accuracy - 0.6366443643849717\n"
          ]
        },
        {
          "name": "stderr",
          "output_type": "stream",
          "text": [
            "Test Batch: 100%|██████████| 61/61 [00:35<00:00,  1.71it/s]\n"
          ]
        },
        {
          "name": "stdout",
          "output_type": "stream",
          "text": [
            "Val results: Loss - 41.47284513711929, Accuracy - 0.6127703398558187\n"
          ]
        },
        {
          "name": "stderr",
          "output_type": "stream",
          "text": [
            "Train Batch: 100%|██████████| 122/122 [01:59<00:00,  1.02it/s]\n"
          ]
        },
        {
          "name": "stdout",
          "output_type": "stream",
          "text": [
            "Epoch #2: Loss - 81.02854138612747, Accuracy - 0.638188368502316\n"
          ]
        },
        {
          "name": "stderr",
          "output_type": "stream",
          "text": [
            "Test Batch: 100%|██████████| 61/61 [00:36<00:00,  1.65it/s]\n"
          ]
        },
        {
          "name": "stdout",
          "output_type": "stream",
          "text": [
            "Val results: Loss - 41.7760391831398, Accuracy - 0.6127703398558187\n"
          ]
        },
        {
          "name": "stderr",
          "output_type": "stream",
          "text": [
            "Train Batch: 100%|██████████| 122/122 [02:00<00:00,  1.01it/s]\n"
          ]
        },
        {
          "name": "stdout",
          "output_type": "stream",
          "text": [
            "Epoch #3: Loss - 80.75624322891235, Accuracy - 0.638188368502316\n"
          ]
        },
        {
          "name": "stderr",
          "output_type": "stream",
          "text": [
            "Test Batch: 100%|██████████| 61/61 [00:35<00:00,  1.71it/s]\n"
          ]
        },
        {
          "name": "stdout",
          "output_type": "stream",
          "text": [
            "Val results: Loss - 41.28472048044205, Accuracy - 0.6127703398558187\n"
          ]
        },
        {
          "name": "stderr",
          "output_type": "stream",
          "text": [
            "Train Batch: 100%|██████████| 122/122 [01:59<00:00,  1.02it/s]\n"
          ]
        },
        {
          "name": "stdout",
          "output_type": "stream",
          "text": [
            "Epoch #4: Loss - 80.78207218647003, Accuracy - 0.638188368502316\n"
          ]
        },
        {
          "name": "stderr",
          "output_type": "stream",
          "text": [
            "Test Batch: 100%|██████████| 61/61 [00:34<00:00,  1.75it/s]\n"
          ]
        },
        {
          "name": "stdout",
          "output_type": "stream",
          "text": [
            "Val results: Loss - 41.54714250564575, Accuracy - 0.6127703398558187\n"
          ]
        },
        {
          "name": "stderr",
          "output_type": "stream",
          "text": [
            "Train Batch: 100%|██████████| 122/122 [01:59<00:00,  1.02it/s]\n"
          ]
        },
        {
          "name": "stdout",
          "output_type": "stream",
          "text": [
            "Epoch #5: Loss - 79.99825268983841, Accuracy - 0.6345856922285126\n"
          ]
        },
        {
          "name": "stderr",
          "output_type": "stream",
          "text": [
            "Test Batch: 100%|██████████| 61/61 [00:35<00:00,  1.73it/s]\n"
          ]
        },
        {
          "name": "stdout",
          "output_type": "stream",
          "text": [
            "Val results: Loss - 41.60062322020531, Accuracy - 0.6127703398558187\n"
          ]
        },
        {
          "name": "stderr",
          "output_type": "stream",
          "text": [
            "Train Batch: 100%|██████████| 122/122 [01:59<00:00,  1.02it/s]\n"
          ]
        },
        {
          "name": "stdout",
          "output_type": "stream",
          "text": [
            "Epoch #6: Loss - 81.51609072089195, Accuracy - 0.638188368502316\n"
          ]
        },
        {
          "name": "stderr",
          "output_type": "stream",
          "text": [
            "Test Batch: 100%|██████████| 61/61 [00:35<00:00,  1.72it/s]\n"
          ]
        },
        {
          "name": "stdout",
          "output_type": "stream",
          "text": [
            "Val results: Loss - 41.46882206201553, Accuracy - 0.6127703398558187\n"
          ]
        },
        {
          "name": "stderr",
          "output_type": "stream",
          "text": [
            "Train Batch: 100%|██████████| 122/122 [01:58<00:00,  1.03it/s]\n"
          ]
        },
        {
          "name": "stdout",
          "output_type": "stream",
          "text": [
            "Epoch #7: Loss - 80.29541826248169, Accuracy - 0.638188368502316\n"
          ]
        },
        {
          "name": "stderr",
          "output_type": "stream",
          "text": [
            "Test Batch: 100%|██████████| 61/61 [00:35<00:00,  1.70it/s]\n"
          ]
        },
        {
          "name": "stdout",
          "output_type": "stream",
          "text": [
            "Val results: Loss - 40.93819862604141, Accuracy - 0.6127703398558187\n"
          ]
        },
        {
          "name": "stderr",
          "output_type": "stream",
          "text": [
            "Train Batch: 100%|██████████| 122/122 [02:00<00:00,  1.01it/s]\n"
          ]
        },
        {
          "name": "stdout",
          "output_type": "stream",
          "text": [
            "Epoch #8: Loss - 80.01593297719955, Accuracy - 0.638188368502316\n"
          ]
        },
        {
          "name": "stderr",
          "output_type": "stream",
          "text": [
            "Test Batch: 100%|██████████| 61/61 [00:34<00:00,  1.74it/s]\n"
          ]
        },
        {
          "name": "stdout",
          "output_type": "stream",
          "text": [
            "Val results: Loss - 41.01846778392792, Accuracy - 0.6127703398558187\n"
          ]
        },
        {
          "name": "stderr",
          "output_type": "stream",
          "text": [
            "Train Batch: 100%|██████████| 122/122 [02:00<00:00,  1.01it/s]\n"
          ]
        },
        {
          "name": "stdout",
          "output_type": "stream",
          "text": [
            "Epoch #9: Loss - 80.2685034275055, Accuracy - 0.638188368502316\n"
          ]
        },
        {
          "name": "stderr",
          "output_type": "stream",
          "text": [
            "Test Batch: 100%|██████████| 61/61 [00:36<00:00,  1.68it/s]\n"
          ]
        },
        {
          "name": "stdout",
          "output_type": "stream",
          "text": [
            "Val results: Loss - 41.12377279996872, Accuracy - 0.6127703398558187\n"
          ]
        },
        {
          "name": "stderr",
          "output_type": "stream",
          "text": [
            "Train Batch: 100%|██████████| 122/122 [01:59<00:00,  1.02it/s]\n"
          ]
        },
        {
          "name": "stdout",
          "output_type": "stream",
          "text": [
            "Epoch #10: Loss - 79.59914514422417, Accuracy - 0.638188368502316\n"
          ]
        },
        {
          "name": "stderr",
          "output_type": "stream",
          "text": [
            "Test Batch: 100%|██████████| 61/61 [00:35<00:00,  1.73it/s]\n"
          ]
        },
        {
          "name": "stdout",
          "output_type": "stream",
          "text": [
            "Val results: Loss - 40.92094510793686, Accuracy - 0.6127703398558187\n"
          ]
        },
        {
          "name": "stderr",
          "output_type": "stream",
          "text": [
            "Train Batch: 100%|██████████| 122/122 [02:00<00:00,  1.01it/s]\n"
          ]
        },
        {
          "name": "stdout",
          "output_type": "stream",
          "text": [
            "Epoch #11: Loss - 79.50860899686813, Accuracy - 0.638188368502316\n"
          ]
        },
        {
          "name": "stderr",
          "output_type": "stream",
          "text": [
            "Test Batch: 100%|██████████| 61/61 [00:35<00:00,  1.71it/s]\n"
          ]
        },
        {
          "name": "stdout",
          "output_type": "stream",
          "text": [
            "Val results: Loss - 40.701095163822174, Accuracy - 0.6127703398558187\n"
          ]
        },
        {
          "name": "stderr",
          "output_type": "stream",
          "text": [
            "Train Batch: 100%|██████████| 122/122 [02:00<00:00,  1.01it/s]\n"
          ]
        },
        {
          "name": "stdout",
          "output_type": "stream",
          "text": [
            "Epoch #12: Loss - 79.47807559370995, Accuracy - 0.638188368502316\n"
          ]
        },
        {
          "name": "stderr",
          "output_type": "stream",
          "text": [
            "Test Batch: 100%|██████████| 61/61 [00:36<00:00,  1.67it/s]\n"
          ]
        },
        {
          "name": "stdout",
          "output_type": "stream",
          "text": [
            "Val results: Loss - 40.88321179151535, Accuracy - 0.6127703398558187\n"
          ]
        },
        {
          "name": "stderr",
          "output_type": "stream",
          "text": [
            "Train Batch:  74%|███████▍  | 90/122 [01:29<00:31,  1.02it/s]"
          ]
        }
      ],
      "source": [
        "results.append(cv_obj.runCV(train_model, epochs=20))\n",
        "configs.append(config)"
      ]
    },
    {
      "cell_type": "code",
      "execution_count": null,
      "metadata": {
        "id": "Qh_aS-6Cv3wv"
      },
      "outputs": [],
      "source": [
        "from src.RNN_utils.cross_val import plotCV\n",
        "\n",
        "plotCV(results, configs,title='Cross Validation for CNN MobileNetV2 with Cross-Entropy Loss')"
      ]
    },
    {
      "cell_type": "code",
      "execution_count": null,
      "metadata": {
        "id": "5U9NCt_4dlWb"
      },
      "outputs": [],
      "source": [
        "print(results)"
      ]
    }
  ],
  "metadata": {
    "accelerator": "GPU",
    "colab": {
      "collapsed_sections": [
        "_WXnbel15B88"
      ],
      "gpuType": "T4",
      "provenance": []
    },
    "kernelspec": {
      "display_name": "Python 3",
      "name": "python3"
    },
    "language_info": {
      "name": "python"
    }
  },
  "nbformat": 4,
  "nbformat_minor": 0
}
