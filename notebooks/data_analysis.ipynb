{
 "cells": [
  {
   "cell_type": "code",
   "execution_count": null,
   "metadata": {},
   "outputs": [],
   "source": [
    "import sys\n",
    "sys.path.append('..')\n",
    "\n",
    "import os\n",
    "import matplotlib.pyplot as plt\n",
    "import pandas as pd\n",
    "import seaborn as sns\n",
    "from src.plot_utils import hist, count, scatter\n",
    "from dotenv import load_dotenv"
   ]
  },
  {
   "cell_type": "code",
   "execution_count": null,
   "metadata": {},
   "outputs": [],
   "source": [
    "# basic data analysis - see https://www.kaggle.com/code/antoniosabatini/tiktok-popularity-track-eda-ml-models/notebook\n",
    "# for info on audio features see https://developer.spotify.com/documentation/web-api/reference/get-audio-features\n",
    "\n",
    "CSV_PATH = '../data/chartex_clean.csv'\n",
    "\n",
    "df = pd.read_csv(CSV_PATH)\n",
    "df.info()"
   ]
  },
  {
   "cell_type": "code",
   "execution_count": null,
   "metadata": {},
   "outputs": [],
   "source": [
    "#dicard string type features\n",
    "df = df.drop(['track_name', 'artist', 'album', 'id', 'song_name', 'artist_name'], axis = 1)\n",
    "\n",
    "# basic statistics\n",
    "print(df.describe())"
   ]
  },
  {
   "cell_type": "code",
   "execution_count": null,
   "metadata": {},
   "outputs": [],
   "source": [
    "# Count the number of unique values in each column\n",
    "print((df.nunique()/len(df)).sort_values())"
   ]
  },
  {
   "cell_type": "markdown",
   "metadata": {},
   "source": [
    "## Distribution of the numerical and categorical columns"
   ]
  },
  {
   "cell_type": "code",
   "execution_count": null,
   "metadata": {},
   "outputs": [],
   "source": [
    "# distribution graphs for the numerical columns\n",
    "\n",
    "cols = ['artist_pop', 'track_pop', 'danceability', 'energy', \n",
    "        'loudness', 'speechiness', 'acousticness', 'instrumentalness', \n",
    "        'liveness', 'valence', 'tempo', 'duration_ms']\n",
    "\n",
    "fig, axs = plt.subplots(4, 3, figsize=(15, 15))\n",
    "\n",
    "for i, col in enumerate(cols):\n",
    "    \n",
    "    row_index = i // 3\n",
    "    col_index = i % 3\n",
    "    \n",
    "    hist(df, col, axs[row_index][col_index])\n",
    "\n",
    "fig.suptitle(\"Histograms of numeric columns of the Dataset\", fontsize=\"xx-large\", y=0.92)\n",
    "    \n",
    "plt.show()\n"
   ]
  },
  {
   "cell_type": "code",
   "execution_count": null,
   "metadata": {},
   "outputs": [],
   "source": [
    "# distribution graphs for categorical columns\n",
    "\n",
    "cols = ['key', 'mode', 'time_signature']\n",
    "\n",
    "fig, ax = plt.subplots(1, 3, figsize=(30, 7))\n",
    "\n",
    "for i, col in enumerate(cols):\n",
    "\n",
    "    count(df, col, ax[i])\n",
    "    \n",
    "fig.suptitle(\"Count of values for categorical columns\", size=\"xx-large\")\n",
    "\n",
    "plt.show()"
   ]
  },
  {
   "cell_type": "markdown",
   "metadata": {},
   "source": [
    "We can see that for the most part, the songs from this dataset, which are all relatively popular on Tiktok (more than 100k videos) are:\n",
    "- Energetic, high tempo, loud, and danceable\n",
    "- Mainly music and not speech\n",
    "- Under 5 minutes in length\n",
    "- Recorded in a Studio (not live)\n",
    "- Not entirely acoustic\n",
    "- Overwhelmingly not instrumental (contain words)\n",
    "- have 4/4 time signature\n",
    "\n",
    "But are these features enough to distinguish the songs that go extremely viral from all the rest?\n",
    "Of course extremely viral is subjective-for example we can use 10 million videos made as the threshold, or 1 million or 50 million.\n",
    "For reference, the most popular song on tik tok has ~35 million videos."
   ]
  },
  {
   "cell_type": "markdown",
   "metadata": {},
   "source": [
    "## Correlation between all pairs:"
   ]
  },
  {
   "cell_type": "code",
   "execution_count": null,
   "metadata": {},
   "outputs": [],
   "source": [
    "fig, ax = plt.subplots(figsize=(12, 12))\n",
    "\n",
    "corr = df.corr()\n",
    "    \n",
    "sns.heatmap(corr, annot=True, ax=ax, square=True, linewidth=.5, vmin=-1, vmax=1, fmt=\".2f\")\n",
    "    "
   ]
  },
  {
   "cell_type": "markdown",
   "metadata": {},
   "source": [
    "few takeovers:\n",
    "\n",
    "* artist_pop has the highest correlation with track_pop.\n",
    "* total_likes_count has the highest correlation with number_of_videos. However, if we know the total number of likes, it is easy to estimate the number of videos and vice versa, meaning they are both hard.\n",
    "* length and duration_ms has the maximum correlation (make sense).\n",
    "* all other pairs has very low correlation."
   ]
  },
  {
   "cell_type": "markdown",
   "metadata": {},
   "source": [
    "# Useless with the heatmap above:"
   ]
  },
  {
   "cell_type": "markdown",
   "metadata": {},
   "source": [
    "## Correlation of number of tiktoks with spotify track popularity and spotify artist popularity\n"
   ]
  },
  {
   "cell_type": "code",
   "execution_count": null,
   "metadata": {},
   "outputs": [],
   "source": [
    "cols = ['track_pop', 'artist_pop']\n",
    "fig, axs = plt.subplots(1,2,  figsize=(40, 15))\n",
    "\n",
    "for i, col in enumerate(cols):\n",
    "    \n",
    "    col_index = i \n",
    "    \n",
    "    ax = axs[col_index]\n",
    "    \n",
    "    scatter(df, 'number_of_videos', col, ax)\n",
    "    \n",
    "\n",
    "plt.show()\n",
    "    "
   ]
  },
  {
   "cell_type": "markdown",
   "metadata": {},
   "source": [
    "We can see that interestingly there is no strong correlation between popularity on spotify and popularity on tik tok."
   ]
  },
  {
   "cell_type": "markdown",
   "metadata": {},
   "source": [
    "## Correlation of audio features with tiktok popularity\n"
   ]
  },
  {
   "cell_type": "code",
   "execution_count": null,
   "metadata": {},
   "outputs": [],
   "source": [
    "cols = ['danceability', 'energy', 'loudness', 'speechiness','acousticness',\n",
    "        'instrumentalness', 'liveness', 'valence', 'tempo', 'duration_ms']\n",
    "\n",
    "fig, axs = plt.subplots(5, 2, figsize=(15, 40))\n",
    "\n",
    "for i, col in enumerate(cols):\n",
    "    \n",
    "    row_index = i // 2\n",
    "    col_index = i % 2\n",
    "    \n",
    "    ax = axs[row_index][col_index]\n",
    "    \n",
    "    scatter(df, 'number_of_videos', col, ax)\n",
    "    \n",
    "\n",
    "plt.show()\n",
    "    "
   ]
  },
  {
   "cell_type": "markdown",
   "metadata": {},
   "source": [
    "We can see that the correlations are rather weak and not enough to help distinguish viral songs from the rest."
   ]
  }
 ],
 "metadata": {
  "kernelspec": {
   "display_name": "venv",
   "language": "python",
   "name": "python3"
  },
  "language_info": {
   "codemirror_mode": {
    "name": "ipython",
    "version": 3
   },
   "file_extension": ".py",
   "mimetype": "text/x-python",
   "name": "python",
   "nbconvert_exporter": "python",
   "pygments_lexer": "ipython3",
   "version": "3.10.10"
  },
  "orig_nbformat": 4
 },
 "nbformat": 4,
 "nbformat_minor": 2
}
