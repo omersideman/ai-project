{
 "cells": [
  {
   "cell_type": "markdown",
   "metadata": {},
   "source": [
    "## Using RNN for feature extraction from audio input"
   ]
  },
  {
   "cell_type": "markdown",
   "metadata": {},
   "source": [
    "The internet suggest we should use RNN on spectogram (as omer did with cnn) by considering each column of the spectogram as the current input (in the time dimension) and then using the recurrent network.\n",
    "\n",
    "Working with the raw audio is not so simple as I originally thought because even if I would use LSTM (which can handle longer sequences than simple RNN), we are talking about sequences of length of ~1e-6 and I think we won't be able to train this well naively. It is possible to do Truncated backpropagation through time (TBPTT) and if time would allow us, we will try that as well but because using spectogram was suggested by the internet, we will go with it."
   ]
  },
  {
   "cell_type": "code",
   "execution_count": 1,
   "metadata": {},
   "outputs": [
    {
     "data": {
      "text/plain": [
       "<torch._C.Generator at 0x1d52e4afab0>"
      ]
     },
     "execution_count": 1,
     "metadata": {},
     "output_type": "execute_result"
    }
   ],
   "source": [
    "import sys; sys.path.append('..')\n",
    "import torch\n",
    "from torch.utils.data import random_split\n",
    "import pandas as pd\n",
    "import torch\n",
    "import matplotlib.pyplot as plt\n",
    "from tqdm import tqdm\n",
    "import torchaudio\n",
    "\n",
    "AUDIO_PATH = '../data/audio'\n",
    "\n",
    "TENSOR_PATH = '../data/specs'\n",
    "\n",
    "METADATA_PATH = '../data/metadata.csv'\n",
    "\n",
    "SEED = 42\n",
    "\n",
    "torch.manual_seed(SEED)"
   ]
  },
  {
   "cell_type": "markdown",
   "metadata": {},
   "source": [
    "### Data processing:"
   ]
  },
  {
   "cell_type": "markdown",
   "metadata": {},
   "source": [
    "#### Playing with the data:"
   ]
  },
  {
   "cell_type": "code",
   "execution_count": null,
   "metadata": {},
   "outputs": [],
   "source": [
    "from pychorus.helpers import find_and_output_chorus\n",
    "import matplotlib.pyplot as plt\n",
    "from IPython.display import Audio\n",
    "import numpy as np\n",
    "import librosa"
   ]
  },
  {
   "cell_type": "markdown",
   "metadata": {},
   "source": [
    "For each song, we will focus only on the chorus. The idea behind this is both in term of performance and in term of computations. In terms of performance, the chorus contains the whole message of the song in just a few lines and also it will be the most powerful, highest energy, loudest, catchiest, and most memorable part of any song. Thus, it make sense that most tiktokers will choose this part for their video. In addition, in term of computation, working on shorter audio file (only the chorus compared to the whole song) / smaller spectogram will require less computations.\n",
    "\n",
    "In order to do so, we will use pychorus library."
   ]
  },
  {
   "cell_type": "code",
   "execution_count": null,
   "metadata": {},
   "outputs": [],
   "source": [
    "x, sr = librosa.load('../data/audio/0e3CM2Fm4cpDtxjzYkdLAr.mp3')\n",
    "start = int(find_and_output_chorus(input_file='../data/audio/0e3CM2Fm4cpDtxjzYkdLAr.mp3', output_file=None, clip_length=20))"
   ]
  },
  {
   "cell_type": "markdown",
   "metadata": {},
   "source": [
    "And now let's plot the predicted chorus and hear it:"
   ]
  },
  {
   "cell_type": "code",
   "execution_count": null,
   "metadata": {},
   "outputs": [],
   "source": [
    "plt.figure(figsize=(14, 5))\n",
    "librosa.display.waveshow(x[start*sr:(start+30)*sr], sr=sr)"
   ]
  },
  {
   "cell_type": "code",
   "execution_count": null,
   "metadata": {},
   "outputs": [],
   "source": [
    "chorus = x[start*sr:(start+20)*sr]\n",
    "Audio(data = chorus, rate=sr)"
   ]
  },
  {
   "cell_type": "markdown",
   "metadata": {},
   "source": [
    "and it really sounds like the real chorus (cut in the middle because I limit the duration to be 30 seconds).\n",
    "\n",
    "Let's try to plot the spectogram of the chorus. "
   ]
  },
  {
   "cell_type": "code",
   "execution_count": null,
   "metadata": {},
   "outputs": [],
   "source": [
    "S = librosa.feature.melspectrogram(y=chorus, sr=sr) #n_fft=2048, hop_length=512 by default\n",
    "fig, ax = plt.subplots()\n",
    "S_dB = librosa.power_to_db(S, ref=np.max(S))\n",
    "img = librosa.display.specshow(S_dB, x_axis='time',\n",
    "                         y_axis='mel', sr=sr,\n",
    "                         fmax=8000, ax=ax)\n",
    "fig.colorbar(img, ax=ax, format='%+2.0f dB')\n",
    "ax.set(title='Mel-frequency spectrogram')"
   ]
  },
  {
   "cell_type": "markdown",
   "metadata": {},
   "source": [
    "It seems that the high frequencies as high dB, which might indicate more rhythmic song (in addition to the previous plot where we can see rapid changes in the signal). This in turn can indicate the virality of the song but we will let the model decide it.\n",
    "\n",
    "Let's create the pipeline of the preprocessing."
   ]
  },
  {
   "cell_type": "markdown",
   "metadata": {},
   "source": [
    "#### Preprocessing pipeline:"
   ]
  },
  {
   "cell_type": "markdown",
   "metadata": {},
   "source": [
    "The following is the basic pipeline:\n",
    "\n",
    "                Raw audio -> calculate mean of channels -> extract chorus from audio -> create spectorgram from audio -> convert spectogram from amplitude to dB\n",
    "\n",
    "In order to avoid redundant calculations and speed-up the training time, I will create all spectogram before the training and save them as files and only load them each epoch."
   ]
  },
  {
   "cell_type": "code",
   "execution_count": 2,
   "metadata": {},
   "outputs": [],
   "source": [
    "from torch.utils.data import random_split\n",
    "from src.RNN_utils.audio_utils import rechannel, get_chorus, createSpect\n",
    "import pandas as pd\n",
    "import torch\n",
    "from tqdm import tqdm\n",
    "import torchaudio\n",
    "\n",
    "AUDIO_PATH = '../data/audio'\n",
    "\n",
    "TENSOR_PATH = '../data/specs'\n",
    "\n",
    "METADATA_PATH = '../data/metadata.csv'"
   ]
  },
  {
   "cell_type": "code",
   "execution_count": null,
   "metadata": {},
   "outputs": [],
   "source": [
    "import os\n",
    "\n",
    "os.mkdir(TENSOR_PATH)"
   ]
  },
  {
   "cell_type": "code",
   "execution_count": 3,
   "metadata": {},
   "outputs": [],
   "source": [
    "df = pd.read_csv(METADATA_PATH)"
   ]
  },
  {
   "cell_type": "markdown",
   "metadata": {},
   "source": [
    "Let's start by applying the pipeline on the training set and save the new tensors as files:"
   ]
  },
  {
   "cell_type": "code",
   "execution_count": null,
   "metadata": {},
   "outputs": [],
   "source": [
    "#for idx in tqdm(df.index):\n",
    "for idx in tqdm(df.index):\n",
    "    song_path = AUDIO_PATH + '/' + df.loc[idx,'id'] + '.mp3'\n",
    "    #load the audio file\n",
    "    aud = torchaudio.load(song_path)\n",
    "    #convert the audio to mono audio\n",
    "    aud = rechannel(aud,new_channel=1)\n",
    "    #take only the part of the chorus from the signal\n",
    "    aud = get_chorus(song_path, 20, aud)\n",
    "    #create the mel-spectogram\n",
    "    sgram = createSpect(aud, n_mels=64)\n",
    "    torch.save(sgram,TENSOR_PATH + '/' + df.loc[idx,'id'] + '.pt')"
   ]
  },
  {
   "cell_type": "markdown",
   "metadata": {},
   "source": [
    "Now, let's use the SoundDS class in order to create dataset from those tensors and then create dataloader for both the training and validation (test) sets:"
   ]
  },
  {
   "cell_type": "code",
   "execution_count": 4,
   "metadata": {},
   "outputs": [],
   "source": [
    "from src.RNN_utils.dataset import SoundDS\n",
    "myds = SoundDS(pd.read_csv('../data/metadata.csv'), '../data/specs/')\n",
    "\n",
    "# Random split of 80:20 between training and validation\n",
    "num_items = len(myds)\n",
    "num_train = round(num_items * 0.8)\n",
    "num_val = num_items - num_train\n",
    "train_ds, val_ds = random_split(myds, [num_train, num_val])\n",
    "\n",
    "# Create training and validation data loaders\n",
    "train_dl = torch.utils.data.DataLoader(train_ds, batch_size=16, shuffle=True)\n",
    "val_dl = torch.utils.data.DataLoader(val_ds, batch_size=16, shuffle=False)"
   ]
  },
  {
   "cell_type": "markdown",
   "metadata": {},
   "source": [
    "Next we will check that everything is working properly:"
   ]
  },
  {
   "cell_type": "code",
   "execution_count": 5,
   "metadata": {},
   "outputs": [],
   "source": [
    "inputs, labels = next(iter(train_dl))"
   ]
  },
  {
   "cell_type": "code",
   "execution_count": 6,
   "metadata": {},
   "outputs": [
    {
     "name": "stdout",
     "output_type": "stream",
     "text": [
      "Batch input shape: torch.Size([16, 2206, 64])\n",
      "Batch label shape: torch.Size([16])\n"
     ]
    }
   ],
   "source": [
    "print(f'Batch input shape: {inputs.shape}')\n",
    "print(f'Batch label shape: {labels.shape}')"
   ]
  },
  {
   "cell_type": "markdown",
   "metadata": {},
   "source": [
    "As we can see, each batch as 16 samples of shape (2206,64) - 2206 windows of time and 64 mel bins of frequencies. The number of channels is only one. Having the data loader, we can now move to the model part!"
   ]
  },
  {
   "cell_type": "markdown",
   "metadata": {},
   "source": [
    "### The Model:"
   ]
  },
  {
   "cell_type": "markdown",
   "metadata": {},
   "source": [
    "We will use RNN based model in this notebook.\n",
    "\n",
    "Because our input is of length 2206 which is pretty long, we won't use the basic RNN unit but the LSTM (Long Short Term Memory). The advantage of LSTM on the basic RNN is the ability to \"remember\" information from far earlier inputs. In addition,it also handle the vanishing gradient problem which we might suffer from with the basic RNN because we have long sequence inputs."
   ]
  },
  {
   "cell_type": "code",
   "execution_count": 9,
   "metadata": {},
   "outputs": [],
   "source": [
    "import torch.nn as nn"
   ]
  },
  {
   "cell_type": "code",
   "execution_count": 10,
   "metadata": {},
   "outputs": [],
   "source": [
    "class viralCls(nn.Module):\n",
    "    def __init__(self, input_size, hidden_size, num_layers=1, dropout=0.0, num_classes=2):\n",
    "        super().__init__()\n",
    "        self.feature_extractor = nn.LSTM(input_size=input_size, hidden_size=hidden_size, num_layers=num_layers, batch_first=True, dropout=dropout)\n",
    "        self.clf = nn.Sequential(\n",
    "            nn.Linear(hidden_size, 64),\n",
    "            nn.LeakyReLU(),\n",
    "            nn.Linear(64, 64),\n",
    "            nn.LeakyReLU(),\n",
    "            nn.Linear(64, num_classes),\n",
    "            nn.Softmax(dim=1)\n",
    "        )\n",
    "        self.input_size = input_size\n",
    "        self.hidden_size = hidden_size\n",
    "        self.num_layers = num_layers\n",
    "        self.num_classes = num_classes\n",
    "\n",
    "    def forward(self,X,h0=None,c0=None):\n",
    "        batch_size = X.shape[0]\n",
    "        if h0 is None or c0 is None:\n",
    "            h0 = torch.normal(mean=0.0,std=1.0,size=(self.num_layers,batch_size,self.hidden_size))\n",
    "            c0 = torch.normal(mean=0.0,std=1.0,size=(self.num_layers,batch_size,self.hidden_size))\n",
    "        \n",
    "        #extracting the features from the spectogram.\n",
    "        out, _ = self.feature_extractor(X, (h0, c0))\n",
    "\n",
    "        #classifing according to the extracted features.\n",
    "        prob = self.clf(out[:,-1,:])\n",
    "        return prob"
   ]
  },
  {
   "cell_type": "markdown",
   "metadata": {},
   "source": [
    "Let's see if the new classifier is working on random input:"
   ]
  },
  {
   "cell_type": "code",
   "execution_count": 18,
   "metadata": {},
   "outputs": [
    {
     "data": {
      "text/plain": [
       "torch.Size([10, 2])"
      ]
     },
     "execution_count": 18,
     "metadata": {},
     "output_type": "execute_result"
    }
   ],
   "source": [
    "model = viralCls(5,10)\n",
    "X = torch.rand(10,20,5)\n",
    "model(X).shape"
   ]
  },
  {
   "cell_type": "markdown",
   "metadata": {},
   "source": [
    "The input is 10 samples, each is with length of 20 and 5 features for each time. The output is probability distribution over 2 classes for all 10 samples. Success!"
   ]
  },
  {
   "cell_type": "markdown",
   "metadata": {},
   "source": [
    "### The training loop:"
   ]
  },
  {
   "cell_type": "markdown",
   "metadata": {},
   "source": [
    "As before, I will first create the loaders of the data:"
   ]
  },
  {
   "cell_type": "code",
   "execution_count": 17,
   "metadata": {},
   "outputs": [],
   "source": [
    "from src.RNN_utils.dataset import SoundDS\n",
    "myds = SoundDS(pd.read_csv('../data/metadata.csv'), '../data/specs/')\n",
    "\n",
    "# Random split of 80:20 between training and validation\n",
    "num_items = len(myds)\n",
    "num_train = round(num_items * 0.8)\n",
    "num_val = num_items - num_train\n",
    "train_ds, val_ds = random_split(myds, [num_train, num_val])\n",
    "\n",
    "# Create training and validation data loaders\n",
    "train_dl = torch.utils.data.DataLoader(train_ds, batch_size=16, shuffle=True)\n",
    "val_dl = torch.utils.data.DataLoader(val_ds, batch_size=16, shuffle=False)"
   ]
  },
  {
   "cell_type": "code",
   "execution_count": 18,
   "metadata": {},
   "outputs": [],
   "source": [
    "b_size, seq_len, input_size = next(iter(train_dl))[0].shape\n",
    "num_batches = len(train_dl)\n",
    "hidden_size = 64"
   ]
  },
  {
   "cell_type": "markdown",
   "metadata": {},
   "source": [
    "and create the classification model:"
   ]
  },
  {
   "cell_type": "code",
   "execution_count": 43,
   "metadata": {},
   "outputs": [],
   "source": [
    "model = viralCls(input_size, hidden_size)"
   ]
  },
  {
   "cell_type": "markdown",
   "metadata": {},
   "source": [
    "We will use cross entropy loss and Adam optimizer:"
   ]
  },
  {
   "cell_type": "code",
   "execution_count": 44,
   "metadata": {},
   "outputs": [],
   "source": [
    "criterion = nn.CrossEntropyLoss()\n",
    "optimizer = torch.optim.Adam(model.parameters(),lr=5e-3)\n",
    "\n",
    "epochs = 10"
   ]
  },
  {
   "cell_type": "markdown",
   "metadata": {},
   "source": [
    "Let's start by train the model to overfitted to the first batch: "
   ]
  },
  {
   "cell_type": "code",
   "execution_count": 45,
   "metadata": {},
   "outputs": [
    {
     "name": "stdout",
     "output_type": "stream",
     "text": [
      "Epoch #0: Loss - 0.7135109901428223, Accuracy - 0.3125\n",
      "Epoch #1: Loss - 0.6842515468597412, Accuracy - 0.5\n",
      "Epoch #2: Loss - 0.6503393650054932, Accuracy - 0.9375\n",
      "Epoch #3: Loss - 0.605300784111023, Accuracy - 1.0\n",
      "Epoch #4: Loss - 0.5553271174430847, Accuracy - 1.0\n",
      "Epoch #5: Loss - 0.494894415140152, Accuracy - 1.0\n",
      "Epoch #6: Loss - 0.44857174158096313, Accuracy - 1.0\n",
      "Epoch #7: Loss - 0.4091062843799591, Accuracy - 1.0\n",
      "Epoch #8: Loss - 0.37253543734550476, Accuracy - 1.0\n",
      "Epoch #9: Loss - 0.3500487506389618, Accuracy - 1.0\n"
     ]
    }
   ],
   "source": [
    "(X,y) = next(iter(train_dl))\n",
    "for epoch in range(epochs):\n",
    "    optimizer.zero_grad()\n",
    "    y_prob = model(X)\n",
    "    loss = criterion(y_prob,y)\n",
    "    loss.backward()\n",
    "    optimizer.step()\n",
    "    loss = loss.item()\n",
    "    acc = torch.sum(torch.argmax(y_prob,dim=1)==y).item()/16\n",
    "    #scheduler.step()\n",
    "    print(f'Epoch #{epoch}: Loss - {loss}, Accuracy - {acc}')"
   ]
  },
  {
   "cell_type": "markdown",
   "metadata": {},
   "source": [
    "and now for the real training:"
   ]
  },
  {
   "cell_type": "code",
   "execution_count": 49,
   "metadata": {},
   "outputs": [],
   "source": [
    "model = viralCls(input_size, hidden_size)\n",
    "criterion = nn.CrossEntropyLoss()\n",
    "optimizer = torch.optim.Adam(model.parameters(),lr=5e-3)\n",
    "scheduler = torch.optim.lr_scheduler.StepLR(optimizer,step_size=10,gamma=0.5)\n",
    "\n",
    "epochs = 50"
   ]
  },
  {
   "cell_type": "code",
   "execution_count": null,
   "metadata": {},
   "outputs": [],
   "source": [
    "results = {'loss': [], 'accuracy': []}\n",
    "\n",
    "for epoch in range(epochs):\n",
    "    tot_corr = 0.0\n",
    "    tot_loss = 0.0\n",
    "    for (X,y) in tqdm(iter(train_dl)):\n",
    "        optimizer.zero_grad()\n",
    "        y_prob = model(X)\n",
    "\n",
    "        loss = criterion(y_prob,y)\n",
    "        loss.backward()\n",
    "\n",
    "        optimizer.step()\n",
    "        tot_corr += torch.sum(torch.argmax(y_prob,dim=1)==y).item()\n",
    "        tot_loss += loss\n",
    "    scheduler.step()\n",
    "    results['loss'].append(tot_loss/num_batches)\n",
    "    results['accuracy'].append(tot_corr/num_items)\n",
    "    print(f'Epoch #{epoch}: Loss - {tot_loss/num_batches}, Accuracy - {tot_corr/num_items}')\n"
   ]
  },
  {
   "cell_type": "code",
   "execution_count": null,
   "metadata": {},
   "outputs": [],
   "source": []
  }
 ],
 "metadata": {
  "kernelspec": {
   "display_name": "venv",
   "language": "python",
   "name": "python3"
  },
  "language_info": {
   "codemirror_mode": {
    "name": "ipython",
    "version": 3
   },
   "file_extension": ".py",
   "mimetype": "text/x-python",
   "name": "python",
   "nbconvert_exporter": "python",
   "pygments_lexer": "ipython3",
   "version": "3.11.5"
  },
  "orig_nbformat": 4
 },
 "nbformat": 4,
 "nbformat_minor": 2
}
